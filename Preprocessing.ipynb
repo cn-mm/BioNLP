{
 "cells": [
  {
   "cell_type": "code",
   "execution_count": 1,
   "metadata": {},
   "outputs": [],
   "source": [
    "import nltk"
   ]
  },
  {
   "cell_type": "code",
   "execution_count": 2,
   "metadata": {},
   "outputs": [],
   "source": [
    "import numpy as np\n",
    "import pandas as pd\n",
    "\n",
    "import matplotlib.pyplot as plt\n",
    "import seaborn as sns\n",
    "\n",
    "import warnings"
   ]
  },
  {
   "cell_type": "code",
   "execution_count": 39,
   "metadata": {},
   "outputs": [
    {
     "name": "stdout",
     "output_type": "stream",
     "text": [
      "(6932, 3)\n",
      "(1000, 3)\n",
      "(12000, 2)\n"
     ]
    }
   ],
   "source": [
    "train = pd.read_csv(r'C:\\Users\\Hp\\Desktop\\Python\\NLP\\COVID19Tweet-master\\train1.tsv', sep='\\t')\n",
    "val = pd.read_csv(r'C:\\Users\\Hp\\Desktop\\Python\\NLP\\COVID19Tweet-master\\valid.tsv', sep='\\t')\n",
    "test = pd.read_csv(r'C:\\Users\\Hp\\Desktop\\Python\\NLP\\COVID19Tweet-master\\unlabeled_test_with_noise.tsv', sep='\\t')\n",
    "print(train.shape)\n",
    "print(val.shape)\n",
    "print(test.shape)"
   ]
  },
  {
   "cell_type": "code",
   "execution_count": 27,
   "metadata": {},
   "outputs": [
    {
     "name": "stdout",
     "output_type": "stream",
     "text": [
      "20154 <class 'dict_items'>\n"
     ]
    }
   ],
   "source": [
    "# An encoded vector is returned with a length of the entire vocabulary and an integer count for the number of times \n",
    "# each word appeared in the document.\n",
    "from sklearn.feature_extraction.text import CountVectorizer\n",
    "\n",
    "cv = CountVectorizer(stop_words = 'english')\n",
    "words = cv.fit_transform(train.Text)\n",
    "\n",
    "#print(cv)\n",
    "sum_words = words.sum(axis=0)\n",
    "\n",
    "print(len(cv.vocabulary_.items()), type(cv.vocabulary_.items()))\n",
    "#print(cv.vocabulary_.items())"
   ]
  },
  {
   "cell_type": "code",
   "execution_count": 45,
   "metadata": {},
   "outputs": [
    {
     "name": "stdout",
     "output_type": "stream",
     "text": [
      "(6932, 20443)\n",
      "<class 'scipy.sparse.csr.csr_matrix'>\n"
     ]
    }
   ],
   "source": [
    "# Demo for how to use CountVectorizer\n",
    "from sklearn.feature_extraction.text import CountVectorizer\n",
    "# create the transform\n",
    "vectorizer = CountVectorizer()\n",
    "# tokenize and build vocab\n",
    "vectorizer.fit(train1.Text)\n",
    "# summarize, prints vocab and where its count will be stored \n",
    "#print(vectorizer.vocabulary_)\n",
    "# encode document\n",
    "vector = vectorizer.transform(train1.Text)\n",
    "# summarize encoded vector\n",
    "print(vector.shape)\n",
    "print(type(vector))\n",
    "#print(vector.toarray()) # the encoded vector, integer count for the number of times each word appeared in the document.\n",
    "# so for each tweet we get a sparse matrix that indicates the word count "
   ]
  },
  {
   "cell_type": "code",
   "execution_count": null,
   "metadata": {},
   "outputs": [],
   "source": [
    "from sklearn.feature_extraction.text import CountVectorizer\n",
    "\n",
    "cv = CountVectorizer(stop_words = 'english')\n",
    "words = cv.fit_transform(train.Text)\n",
    "\n",
    "#print(cv)\n",
    "sum_words = words.sum(axis=0)\n",
    "\n",
    "print(len(cv.vocabulary_.items()), type(cv.vocabulary_.items()))\n",
    "#print(cv.vocabulary_.items())"
   ]
  },
  {
   "cell_type": "code",
   "execution_count": 28,
   "metadata": {},
   "outputs": [
    {
     "name": "stdout",
     "output_type": "stream",
     "text": [
      "0       Official death toll from #covid19 in the Unite...\n",
      "1       Dearest Mr. President @USER 1,169 coronavirus ...\n",
      "2       Latest Updates March 20 ⚠️5274 new cases and 3...\n",
      "3       真把公主不当干部 BREAKING: 21 people on Grand Princess...\n",
      "4       OKLAHOMA CITY — The State Department of Educat...\n",
      "                              ...                        \n",
      "6927    .@USER makes major announcement in view of #co...\n",
      "6928    ❌QUESTION ... did they receive a Ventilator wh...\n",
      "6929    CMT will air a special celebrating the life&am...\n",
      "6930    Current 🇮🇩 COVID19 testing procedure only test...\n",
      "6931    A preview of what’s to come, the further the s...\n",
      "Name: Text, Length: 6932, dtype: object\n"
     ]
    }
   ],
   "source": [
    "print(train['Text'])"
   ]
  },
  {
   "cell_type": "code",
   "execution_count": 34,
   "metadata": {},
   "outputs": [
    {
     "name": "stdout",
     "output_type": "stream",
     "text": [
      "<class 'pandas.core.frame.DataFrame'> <class 'pandas.core.series.Series'>\n",
      "0       [official, death, toll, from, covid19, in, the...\n",
      "1       [dearest, mr, president, user, 1, 169, coronav...\n",
      "2       [latest, updates, march, 20, 5274, new, cases,...\n",
      "3       [真把公主不当干部, breaking, 21, people, on, grand, pr...\n",
      "4       [oklahoma, city, the, state, department, of, e...\n",
      "                              ...                        \n",
      "6927    [user, makes, major, announcement, in, view, o...\n",
      "6928    [question, did, they, receive, a, ventilator, ...\n",
      "6929    [cmt, will, air, a, special, celebrating, the,...\n",
      "6930    [current, covid19, testing, procedure, only, t...\n",
      "6931    [a, preview, of, what, s, to, come, the, furth...\n",
      "Name: Text, Length: 6932, dtype: object\n"
     ]
    }
   ],
   "source": [
    "# Generating vocab in another way \n",
    "# Remove punctuation, lowercase, split\n",
    "train['Text'] = train['Text'].str.replace('\\W+', ' ').str.replace('\\s+', ' ').str.strip() # replacing some chars\n",
    "train['Text'] = train['Text'].str.lower() # lowercase\n",
    "train['Text'] = train['Text'].str.split() # to list \n",
    "\n",
    "print(type(train), type(train['Text']))\n",
    "print(train['Text'])"
   ]
  },
  {
   "cell_type": "code",
   "execution_count": 35,
   "metadata": {},
   "outputs": [
    {
     "data": {
      "text/html": [
       "<div>\n",
       "<style scoped>\n",
       "    .dataframe tbody tr th:only-of-type {\n",
       "        vertical-align: middle;\n",
       "    }\n",
       "\n",
       "    .dataframe tbody tr th {\n",
       "        vertical-align: top;\n",
       "    }\n",
       "\n",
       "    .dataframe thead th {\n",
       "        text-align: right;\n",
       "    }\n",
       "</style>\n",
       "<table border=\"1\" class=\"dataframe\">\n",
       "  <thead>\n",
       "    <tr style=\"text-align: right;\">\n",
       "      <th></th>\n",
       "      <th>Id</th>\n",
       "      <th>Text</th>\n",
       "      <th>Label</th>\n",
       "    </tr>\n",
       "  </thead>\n",
       "  <tbody>\n",
       "    <tr>\n",
       "      <th>0</th>\n",
       "      <td>1241490299215634434</td>\n",
       "      <td>[official, death, toll, from, covid19, in, the...</td>\n",
       "      <td>INFORMATIVE</td>\n",
       "    </tr>\n",
       "    <tr>\n",
       "      <th>1</th>\n",
       "      <td>1245916400981381130</td>\n",
       "      <td>[dearest, mr, president, user, 1, 169, coronav...</td>\n",
       "      <td>INFORMATIVE</td>\n",
       "    </tr>\n",
       "    <tr>\n",
       "      <th>2</th>\n",
       "      <td>1241132432402849793</td>\n",
       "      <td>[latest, updates, march, 20, 5274, new, cases,...</td>\n",
       "      <td>INFORMATIVE</td>\n",
       "    </tr>\n",
       "    <tr>\n",
       "      <th>3</th>\n",
       "      <td>1236107253666607104</td>\n",
       "      <td>[真把公主不当干部, breaking, 21, people, on, grand, pr...</td>\n",
       "      <td>INFORMATIVE</td>\n",
       "    </tr>\n",
       "    <tr>\n",
       "      <th>4</th>\n",
       "      <td>1239673817552879619</td>\n",
       "      <td>[oklahoma, city, the, state, department, of, e...</td>\n",
       "      <td>UNINFORMATIVE</td>\n",
       "    </tr>\n",
       "  </tbody>\n",
       "</table>\n",
       "</div>"
      ],
      "text/plain": [
       "                    Id                                               Text  \\\n",
       "0  1241490299215634434  [official, death, toll, from, covid19, in, the...   \n",
       "1  1245916400981381130  [dearest, mr, president, user, 1, 169, coronav...   \n",
       "2  1241132432402849793  [latest, updates, march, 20, 5274, new, cases,...   \n",
       "3  1236107253666607104  [真把公主不当干部, breaking, 21, people, on, grand, pr...   \n",
       "4  1239673817552879619  [oklahoma, city, the, state, department, of, e...   \n",
       "\n",
       "           Label  \n",
       "0    INFORMATIVE  \n",
       "1    INFORMATIVE  \n",
       "2    INFORMATIVE  \n",
       "3    INFORMATIVE  \n",
       "4  UNINFORMATIVE  "
      ]
     },
     "execution_count": 35,
     "metadata": {},
     "output_type": "execute_result"
    }
   ],
   "source": [
    "train.head()"
   ]
  },
  {
   "cell_type": "code",
   "execution_count": 38,
   "metadata": {},
   "outputs": [
    {
     "name": "stdout",
     "output_type": "stream",
     "text": [
      "20494\n"
     ]
    }
   ],
   "source": [
    "vocabulary = list(set(train['Text'].sum()))\n",
    "print(len(vocabulary))"
   ]
  },
  {
   "cell_type": "code",
   "execution_count": 40,
   "metadata": {},
   "outputs": [],
   "source": [
    "train1 = train"
   ]
  },
  {
   "cell_type": "code",
   "execution_count": 41,
   "metadata": {},
   "outputs": [],
   "source": [
    "def get_label(text):\n",
    "    if text == \"UNINFORMATIVE\":\n",
    "        return 0\n",
    "    elif text == \"INFORMATIVE\":\n",
    "        return 1\n",
    "    else: \n",
    "        return -1"
   ]
  },
  {
   "cell_type": "code",
   "execution_count": 42,
   "metadata": {},
   "outputs": [],
   "source": [
    "train1['Label'] = train1['Label'].apply(get_label)"
   ]
  },
  {
   "cell_type": "code",
   "execution_count": 48,
   "metadata": {},
   "outputs": [
    {
     "data": {
      "text/html": [
       "<div>\n",
       "<style scoped>\n",
       "    .dataframe tbody tr th:only-of-type {\n",
       "        vertical-align: middle;\n",
       "    }\n",
       "\n",
       "    .dataframe tbody tr th {\n",
       "        vertical-align: top;\n",
       "    }\n",
       "\n",
       "    .dataframe thead th {\n",
       "        text-align: right;\n",
       "    }\n",
       "</style>\n",
       "<table border=\"1\" class=\"dataframe\">\n",
       "  <thead>\n",
       "    <tr style=\"text-align: right;\">\n",
       "      <th></th>\n",
       "      <th>Id</th>\n",
       "      <th>Text</th>\n",
       "      <th>Label</th>\n",
       "    </tr>\n",
       "  </thead>\n",
       "  <tbody>\n",
       "    <tr>\n",
       "      <th>0</th>\n",
       "      <td>1241490299215634434</td>\n",
       "      <td>Official death toll from #covid19 in the Unite...</td>\n",
       "      <td>1</td>\n",
       "    </tr>\n",
       "    <tr>\n",
       "      <th>1</th>\n",
       "      <td>1245916400981381130</td>\n",
       "      <td>Dearest Mr. President @USER 1,169 coronavirus ...</td>\n",
       "      <td>1</td>\n",
       "    </tr>\n",
       "    <tr>\n",
       "      <th>2</th>\n",
       "      <td>1241132432402849793</td>\n",
       "      <td>Latest Updates March 20 ⚠️5274 new cases and 3...</td>\n",
       "      <td>1</td>\n",
       "    </tr>\n",
       "    <tr>\n",
       "      <th>3</th>\n",
       "      <td>1236107253666607104</td>\n",
       "      <td>真把公主不当干部 BREAKING: 21 people on Grand Princess...</td>\n",
       "      <td>1</td>\n",
       "    </tr>\n",
       "    <tr>\n",
       "      <th>4</th>\n",
       "      <td>1239673817552879619</td>\n",
       "      <td>OKLAHOMA CITY — The State Department of Educat...</td>\n",
       "      <td>0</td>\n",
       "    </tr>\n",
       "  </tbody>\n",
       "</table>\n",
       "</div>"
      ],
      "text/plain": [
       "                    Id                                               Text  \\\n",
       "0  1241490299215634434  Official death toll from #covid19 in the Unite...   \n",
       "1  1245916400981381130  Dearest Mr. President @USER 1,169 coronavirus ...   \n",
       "2  1241132432402849793  Latest Updates March 20 ⚠️5274 new cases and 3...   \n",
       "3  1236107253666607104  真把公主不当干部 BREAKING: 21 people on Grand Princess...   \n",
       "4  1239673817552879619  OKLAHOMA CITY — The State Department of Educat...   \n",
       "\n",
       "   Label  \n",
       "0      1  \n",
       "1      1  \n",
       "2      1  \n",
       "3      1  \n",
       "4      0  "
      ]
     },
     "execution_count": 48,
     "metadata": {},
     "output_type": "execute_result"
    }
   ],
   "source": [
    "train1.head()"
   ]
  },
  {
   "cell_type": "code",
   "execution_count": 50,
   "metadata": {},
   "outputs": [
    {
     "name": "stdout",
     "output_type": "stream",
     "text": [
      "Official death toll from #covid19 in the United Kingdom is now GREATER than: Germany + Poland + Switzerland + Austria + Portugal + Greece + Sweden + Finland + Norway + Ireland... COMBINED. UK: 67.5 Million (233 dead) Above group: 185 Million (230 dead) HTTPURL\n",
      "['Official', 'death', 'toll', 'from', '#covid19', 'in', 'the', 'United', 'Kingdom', 'is', 'now', 'GREATER', 'than', ':', 'Germany', '+', 'Poland', '+', 'Switzerland', '+', 'Austria', '+', 'Portugal', '+', 'Greece', '+', 'Sweden', '+', 'Finland', '+', 'Norway', '+', 'Ireland', '...', 'COMBINED', '.', 'UK', ':', '67.5', 'Million', '(', '233', 'dead', ')', 'Above', 'group', ':', '185', 'Million', '(', '230', 'dead', ')', 'HTTPURL']\n"
     ]
    }
   ],
   "source": [
    "# Tweet Tokeniser keeps hashtags intact \n",
    "from nltk.tokenize import TweetTokenizer \n",
    "tk = TweetTokenizer() \n",
    "print(train1['Text'][0])\n",
    "g = tk.tokenize(train1['Text'][0])\n",
    "print(g)"
   ]
  },
  {
   "cell_type": "code",
   "execution_count": 51,
   "metadata": {},
   "outputs": [],
   "source": [
    "def tk(text):\n",
    "    t = TweetTokenizer()\n",
    "    return t.tokenize(text)"
   ]
  },
  {
   "cell_type": "code",
   "execution_count": 54,
   "metadata": {},
   "outputs": [],
   "source": [
    "train1['Text'] = train1['Text'].apply(tk)"
   ]
  },
  {
   "cell_type": "code",
   "execution_count": 55,
   "metadata": {},
   "outputs": [
    {
     "data": {
      "text/html": [
       "<div>\n",
       "<style scoped>\n",
       "    .dataframe tbody tr th:only-of-type {\n",
       "        vertical-align: middle;\n",
       "    }\n",
       "\n",
       "    .dataframe tbody tr th {\n",
       "        vertical-align: top;\n",
       "    }\n",
       "\n",
       "    .dataframe thead th {\n",
       "        text-align: right;\n",
       "    }\n",
       "</style>\n",
       "<table border=\"1\" class=\"dataframe\">\n",
       "  <thead>\n",
       "    <tr style=\"text-align: right;\">\n",
       "      <th></th>\n",
       "      <th>Id</th>\n",
       "      <th>Text</th>\n",
       "      <th>Label</th>\n",
       "    </tr>\n",
       "  </thead>\n",
       "  <tbody>\n",
       "    <tr>\n",
       "      <th>0</th>\n",
       "      <td>1241490299215634434</td>\n",
       "      <td>[Official, death, toll, from, #covid19, in, th...</td>\n",
       "      <td>1</td>\n",
       "    </tr>\n",
       "    <tr>\n",
       "      <th>1</th>\n",
       "      <td>1245916400981381130</td>\n",
       "      <td>[Dearest, Mr, ., President, @USER, 1,169, coro...</td>\n",
       "      <td>1</td>\n",
       "    </tr>\n",
       "    <tr>\n",
       "      <th>2</th>\n",
       "      <td>1241132432402849793</td>\n",
       "      <td>[Latest, Updates, March, 20, ⚠, ️5274, new, ca...</td>\n",
       "      <td>1</td>\n",
       "    </tr>\n",
       "    <tr>\n",
       "      <th>3</th>\n",
       "      <td>1236107253666607104</td>\n",
       "      <td>[真把公主不当干部, BREAKING, :, 21, people, on, Grand,...</td>\n",
       "      <td>1</td>\n",
       "    </tr>\n",
       "    <tr>\n",
       "      <th>4</th>\n",
       "      <td>1239673817552879619</td>\n",
       "      <td>[OKLAHOMA, CITY, —, The, State, Department, of...</td>\n",
       "      <td>0</td>\n",
       "    </tr>\n",
       "  </tbody>\n",
       "</table>\n",
       "</div>"
      ],
      "text/plain": [
       "                    Id                                               Text  \\\n",
       "0  1241490299215634434  [Official, death, toll, from, #covid19, in, th...   \n",
       "1  1245916400981381130  [Dearest, Mr, ., President, @USER, 1,169, coro...   \n",
       "2  1241132432402849793  [Latest, Updates, March, 20, ⚠, ️5274, new, ca...   \n",
       "3  1236107253666607104  [真把公主不当干部, BREAKING, :, 21, people, on, Grand,...   \n",
       "4  1239673817552879619  [OKLAHOMA, CITY, —, The, State, Department, of...   \n",
       "\n",
       "   Label  \n",
       "0      1  \n",
       "1      1  \n",
       "2      1  \n",
       "3      1  \n",
       "4      0  "
      ]
     },
     "execution_count": 55,
     "metadata": {},
     "output_type": "execute_result"
    }
   ],
   "source": [
    "train1.head()"
   ]
  },
  {
   "cell_type": "code",
   "execution_count": null,
   "metadata": {},
   "outputs": [],
   "source": []
  },
  {
   "cell_type": "code",
   "execution_count": 5,
   "metadata": {},
   "outputs": [
    {
     "data": {
      "text/plain": [
       "(3542793, 4973800)"
      ]
     },
     "execution_count": 5,
     "metadata": {},
     "output_type": "execute_result"
    }
   ],
   "source": [
    "# tokenizing the words present in the training set\n",
    "tokenized_tweet = train['Text'].apply(lambda x: x.split()) \n",
    "\n",
    "# importing gensim\n",
    "import gensim\n",
    "\n",
    "# creating a word to vector model\n",
    "model_w2v = gensim.models.Word2Vec(\n",
    "            tokenized_tweet,\n",
    "            size=200, # desired no. of features/independent variables \n",
    "            window=5, # context window size\n",
    "            min_count=2,\n",
    "            sg = 1, # 1 for skip-gram model\n",
    "            hs = 0,\n",
    "            negative = 10, # for negative sampling\n",
    "            workers= 2, # no.of cores\n",
    "            seed = 34)\n",
    "\n",
    "model_w2v.train(tokenized_tweet, total_examples= len(train['Text']), epochs=20)"
   ]
  },
  {
   "cell_type": "code",
   "execution_count": 6,
   "metadata": {},
   "outputs": [
    {
     "name": "stdout",
     "output_type": "stream",
     "text": [
      "0       [Official, death, toll, from, #covid19, in, th...\n",
      "1       [Dearest, Mr., President, @USER, 1,169, corona...\n",
      "2       [Latest, Updates, March, 20, ⚠️5274, new, case...\n",
      "3       [真把公主不当干部, BREAKING:, 21, people, on, Grand, P...\n",
      "4       [OKLAHOMA, CITY, —, The, State, Department, of...\n",
      "                              ...                        \n",
      "6927    [.@USER, makes, major, announcement, in, view,...\n",
      "6928    [❌QUESTION, ..., did, they, receive, a, Ventil...\n",
      "6929    [CMT, will, air, a, special, celebrating, the,...\n",
      "6930    [Current, 🇮🇩, COVID19, testing, procedure, onl...\n",
      "6931    [A, preview, of, what’s, to, come,, the, furth...\n",
      "Name: Text, Length: 6932, dtype: object\n"
     ]
    }
   ],
   "source": [
    "print(tokenized_tweet)"
   ]
  },
  {
   "cell_type": "code",
   "execution_count": null,
   "metadata": {},
   "outputs": [],
   "source": []
  }
 ],
 "metadata": {
  "kernelspec": {
   "display_name": "Python 3",
   "language": "python",
   "name": "python3"
  },
  "language_info": {
   "codemirror_mode": {
    "name": "ipython",
    "version": 3
   },
   "file_extension": ".py",
   "mimetype": "text/x-python",
   "name": "python",
   "nbconvert_exporter": "python",
   "pygments_lexer": "ipython3",
   "version": "3.8.5"
  }
 },
 "nbformat": 4,
 "nbformat_minor": 4
}
