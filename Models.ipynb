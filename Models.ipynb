{
  "nbformat": 4,
  "nbformat_minor": 0,
  "metadata": {
    "colab": {
      "name": "RNN Model.ipynb",
      "provenance": [],
      "collapsed_sections": [],
      "authorship_tag": "ABX9TyNvzzq9j0y16PY9SZG0sJHK",
      "include_colab_link": true
    },
    "kernelspec": {
      "name": "python3",
      "display_name": "Python 3"
    },
    "accelerator": "GPU"
  },
  "cells": [
    {
      "cell_type": "markdown",
      "metadata": {
        "id": "view-in-github",
        "colab_type": "text"
      },
      "source": [
        "<a href=\"https://colab.research.google.com/github/cn-mm/SOP-COVID-Tweets-Text-Classification/blob/master/Models.ipynb\" target=\"_parent\"><img src=\"https://colab.research.google.com/assets/colab-badge.svg\" alt=\"Open In Colab\"/></a>"
      ]
    },
    {
      "cell_type": "markdown",
      "metadata": {
        "id": "IpB9FNl0T4oj"
      },
      "source": [
        "# Getting the repository "
      ]
    },
    {
      "cell_type": "code",
      "metadata": {
        "id": "7j9_0nCl17OO",
        "outputId": "b4857d91-2618-4fe7-93e1-9c57f1505d74",
        "colab": {
          "base_uri": "https://localhost:8080/"
        }
      },
      "source": [
        "# Cloning Repo\n",
        "!git clone https://github.com/cn-mm/SOP-COVID-Tweets-Text-Classification.git"
      ],
      "execution_count": null,
      "outputs": [
        {
          "output_type": "stream",
          "text": [
            "Cloning into 'SOP-COVID-Tweets-Text-Classification'...\n",
            "remote: Enumerating objects: 54, done.\u001b[K\n",
            "remote: Counting objects: 100% (54/54), done.\u001b[K\n",
            "remote: Compressing objects: 100% (45/45), done.\u001b[K\n",
            "remote: Total 54 (delta 21), reused 20 (delta 7), pack-reused 0\u001b[K\n",
            "Unpacking objects: 100% (54/54), done.\n"
          ],
          "name": "stdout"
        }
      ]
    },
    {
      "cell_type": "code",
      "metadata": {
        "id": "B_os7tLG2CS8",
        "outputId": "8b5e1b5c-2db9-4097-f138-d0c7c9eb9f3e",
        "colab": {
          "base_uri": "https://localhost:8080/"
        }
      },
      "source": [
        "# Change directory \n",
        "%cd /content/SOP-COVID-Tweets-Text-Classification"
      ],
      "execution_count": null,
      "outputs": [
        {
          "output_type": "stream",
          "text": [
            "/content/SOP-COVID-Tweets-Text-Classification\n"
          ],
          "name": "stdout"
        }
      ]
    },
    {
      "cell_type": "code",
      "metadata": {
        "id": "pOWuXHiI2DyX",
        "outputId": "e2778ac8-852e-49b2-a788-dc294470750b",
        "colab": {
          "base_uri": "https://localhost:8080/"
        }
      },
      "source": [
        "# Importing Libraries \n",
        "import pandas as pd\n",
        "from matplotlib import pyplot as plt\n",
        "import numpy as np\n",
        "\n",
        "# nltk\n",
        "import nltk \n",
        "from nltk.corpus import stopwords\n",
        "from nltk.util import ngrams\n",
        "from nltk.tokenize import TweetTokenizer\n",
        "from nltk.tokenize import word_tokenize\n",
        "nltk.download('stopwords')\n",
        "nltk.download('punkt')\n",
        "\n",
        "from wordcloud import WordCloud\n",
        "\n",
        "# sklearn\n",
        "from sklearn.feature_extraction.text import CountVectorizer, TfidfVectorizer\n",
        "from sklearn.model_selection import train_test_split\n",
        "from sklearn.decomposition import PCA, TruncatedSVD\n",
        "from sklearn.metrics import classification_report,confusion_matrix\n",
        "from sklearn.preprocessing import LabelEncoder\n",
        "\n",
        "from collections import defaultdict\n",
        "from collections import Counter\n",
        "plt.style.use('ggplot')\n",
        "stop=set(stopwords.words('english'))\n",
        "\n",
        "import re\n",
        "\n",
        "import gensim\n",
        "import string\n",
        "\n",
        "# Tensorflow \n",
        "import tensorflow as tf\n",
        "from tensorflow.keras.layers import Dense, Input\n",
        "from tensorflow.keras.optimizers import Adam\n",
        "from tensorflow.keras.models import Model\n",
        "from tensorflow.keras.callbacks import ModelCheckpoint\n",
        "import tensorflow_hub as hub\n",
        "\n",
        "# keras\n",
        "import seaborn as sns\n",
        "from tqdm import tqdm\n",
        "from keras.preprocessing.text import Tokenizer\n",
        "from keras.preprocessing.sequence import pad_sequences\n",
        "from keras.models import Sequential\n",
        "from keras.layers import Embedding, LSTM,Dense, SpatialDropout1D, Dropout, Activation \n",
        "from keras.initializers import Constant\n",
        "from keras.models import Model\n",
        "from keras.optimizers import Adam, RMSprop\n",
        "from keras.preprocessing import sequence\n",
        "from keras.utils import to_categorical\n",
        "from keras.callbacks import EarlyStopping\n"
      ],
      "execution_count": null,
      "outputs": [
        {
          "output_type": "stream",
          "text": [
            "[nltk_data] Downloading package stopwords to /root/nltk_data...\n",
            "[nltk_data]   Package stopwords is already up-to-date!\n",
            "[nltk_data] Downloading package punkt to /root/nltk_data...\n",
            "[nltk_data]   Package punkt is already up-to-date!\n"
          ],
          "name": "stdout"
        }
      ]
    },
    {
      "cell_type": "markdown",
      "metadata": {
        "id": "GcYVhzG52FvF"
      },
      "source": [
        "# Loading and formatting Datasets "
      ]
    },
    {
      "cell_type": "code",
      "metadata": {
        "id": "6ocOA9Ej2I9n"
      },
      "source": [
        "TRAIN = pd.read_csv(r'/content/SOP-COVID-Tweets-Text-Classification/train1.tsv', sep='\\t')\n",
        "VAL = pd.read_csv(r'/content/SOP-COVID-Tweets-Text-Classification/valid.tsv', sep = '\\t')"
      ],
      "execution_count": null,
      "outputs": []
    },
    {
      "cell_type": "code",
      "metadata": {
        "id": "31g4tP_K2KwW"
      },
      "source": [
        "def get_label(text):\n",
        "    if text == \"UNINFORMATIVE\":\n",
        "        return 0\n",
        "    elif text == \"INFORMATIVE\":\n",
        "        return 1\n",
        "    else: \n",
        "        return -1\n",
        "\n",
        "TRAIN['Label'] = TRAIN['Label'].apply(get_label)\n",
        "VAL['Label'] = VAL['Label'].apply(get_label)"
      ],
      "execution_count": null,
      "outputs": []
    },
    {
      "cell_type": "code",
      "metadata": {
        "id": "sJseiWaTCHNg"
      },
      "source": [
        "train = TRAIN\n",
        "val = VAL"
      ],
      "execution_count": null,
      "outputs": []
    },
    {
      "cell_type": "code",
      "metadata": {
        "id": "di_MFQOC2TeU",
        "outputId": "451ce150-b53c-4186-bc25-f1177fdc3ae2",
        "colab": {
          "base_uri": "https://localhost:8080/",
          "height": 204
        }
      },
      "source": [
        "train.head()\n",
        "val.head()"
      ],
      "execution_count": null,
      "outputs": [
        {
          "output_type": "execute_result",
          "data": {
            "text/html": [
              "<div>\n",
              "<style scoped>\n",
              "    .dataframe tbody tr th:only-of-type {\n",
              "        vertical-align: middle;\n",
              "    }\n",
              "\n",
              "    .dataframe tbody tr th {\n",
              "        vertical-align: top;\n",
              "    }\n",
              "\n",
              "    .dataframe thead th {\n",
              "        text-align: right;\n",
              "    }\n",
              "</style>\n",
              "<table border=\"1\" class=\"dataframe\">\n",
              "  <thead>\n",
              "    <tr style=\"text-align: right;\">\n",
              "      <th></th>\n",
              "      <th>Id</th>\n",
              "      <th>Text</th>\n",
              "      <th>Label</th>\n",
              "    </tr>\n",
              "  </thead>\n",
              "  <tbody>\n",
              "    <tr>\n",
              "      <th>0</th>\n",
              "      <td>1241728922192142336</td>\n",
              "      <td>For those saying Pakistan isn’t Italy; After 3...</td>\n",
              "      <td>0</td>\n",
              "    </tr>\n",
              "    <tr>\n",
              "      <th>1</th>\n",
              "      <td>1235713405992030209</td>\n",
              "      <td>Second case DR 🇩🇴 The Canadian woman has not b...</td>\n",
              "      <td>1</td>\n",
              "    </tr>\n",
              "    <tr>\n",
              "      <th>2</th>\n",
              "      <td>1245941302367305728</td>\n",
              "      <td>Kill Chain: the cyber war on America's electio...</td>\n",
              "      <td>0</td>\n",
              "    </tr>\n",
              "    <tr>\n",
              "      <th>3</th>\n",
              "      <td>1245913002840391681</td>\n",
              "      <td>Town hosts FIRST #Virtual #TownCouncil meeting...</td>\n",
              "      <td>0</td>\n",
              "    </tr>\n",
              "    <tr>\n",
              "      <th>4</th>\n",
              "      <td>1240543259299987457</td>\n",
              "      <td>Report suggested that the actual number of und...</td>\n",
              "      <td>0</td>\n",
              "    </tr>\n",
              "  </tbody>\n",
              "</table>\n",
              "</div>"
            ],
            "text/plain": [
              "                    Id  ... Label\n",
              "0  1241728922192142336  ...     0\n",
              "1  1235713405992030209  ...     1\n",
              "2  1245941302367305728  ...     0\n",
              "3  1245913002840391681  ...     0\n",
              "4  1240543259299987457  ...     0\n",
              "\n",
              "[5 rows x 3 columns]"
            ]
          },
          "metadata": {
            "tags": []
          },
          "execution_count": 7
        }
      ]
    },
    {
      "cell_type": "code",
      "metadata": {
        "id": "TuZo7xcGTqqr",
        "outputId": "3de5ce76-408f-4e7a-8308-2c1629d2c293",
        "colab": {
          "base_uri": "https://localhost:8080/"
        }
      },
      "source": [
        "train.info()"
      ],
      "execution_count": null,
      "outputs": [
        {
          "output_type": "stream",
          "text": [
            "<class 'pandas.core.frame.DataFrame'>\n",
            "RangeIndex: 6932 entries, 0 to 6931\n",
            "Data columns (total 3 columns):\n",
            " #   Column  Non-Null Count  Dtype \n",
            "---  ------  --------------  ----- \n",
            " 0   Id      6932 non-null   int64 \n",
            " 1   Text    6932 non-null   object\n",
            " 2   Label   6932 non-null   int64 \n",
            "dtypes: int64(2), object(1)\n",
            "memory usage: 162.6+ KB\n"
          ],
          "name": "stdout"
        }
      ]
    },
    {
      "cell_type": "code",
      "metadata": {
        "id": "X1Cz7dqX2bKK",
        "outputId": "789c0a51-6e59-452a-f86c-f0c8b374b6cd",
        "colab": {
          "base_uri": "https://localhost:8080/",
          "height": 142
        }
      },
      "source": [
        "train.groupby('Label').count()"
      ],
      "execution_count": null,
      "outputs": [
        {
          "output_type": "execute_result",
          "data": {
            "text/html": [
              "<div>\n",
              "<style scoped>\n",
              "    .dataframe tbody tr th:only-of-type {\n",
              "        vertical-align: middle;\n",
              "    }\n",
              "\n",
              "    .dataframe tbody tr th {\n",
              "        vertical-align: top;\n",
              "    }\n",
              "\n",
              "    .dataframe thead th {\n",
              "        text-align: right;\n",
              "    }\n",
              "</style>\n",
              "<table border=\"1\" class=\"dataframe\">\n",
              "  <thead>\n",
              "    <tr style=\"text-align: right;\">\n",
              "      <th></th>\n",
              "      <th>Id</th>\n",
              "      <th>Text</th>\n",
              "    </tr>\n",
              "    <tr>\n",
              "      <th>Label</th>\n",
              "      <th></th>\n",
              "      <th></th>\n",
              "    </tr>\n",
              "  </thead>\n",
              "  <tbody>\n",
              "    <tr>\n",
              "      <th>0</th>\n",
              "      <td>3660</td>\n",
              "      <td>3660</td>\n",
              "    </tr>\n",
              "    <tr>\n",
              "      <th>1</th>\n",
              "      <td>3272</td>\n",
              "      <td>3272</td>\n",
              "    </tr>\n",
              "  </tbody>\n",
              "</table>\n",
              "</div>"
            ],
            "text/plain": [
              "         Id  Text\n",
              "Label            \n",
              "0      3660  3660\n",
              "1      3272  3272"
            ]
          },
          "metadata": {
            "tags": []
          },
          "execution_count": 11
        }
      ]
    },
    {
      "cell_type": "code",
      "metadata": {
        "id": "Gww9ENMaTuf6",
        "outputId": "e64a16b5-a88d-4f23-c5f9-39b73b4a8453",
        "colab": {
          "base_uri": "https://localhost:8080/",
          "height": 366
        }
      },
      "source": [
        "import seaborn as sns\n",
        "sns.countplot(train.Label)\n",
        "plt.xlabel('Label')\n",
        "plt.title('Number of Informative and Uninformative Tweets')"
      ],
      "execution_count": null,
      "outputs": [
        {
          "output_type": "stream",
          "text": [
            "/usr/local/lib/python3.6/dist-packages/seaborn/_decorators.py:43: FutureWarning: Pass the following variable as a keyword arg: x. From version 0.12, the only valid positional argument will be `data`, and passing other arguments without an explicit keyword will result in an error or misinterpretation.\n",
            "  FutureWarning\n"
          ],
          "name": "stderr"
        },
        {
          "output_type": "execute_result",
          "data": {
            "text/plain": [
              "Text(0.5, 1.0, 'Number of Informative and Uninformative Tweets')"
            ]
          },
          "metadata": {
            "tags": []
          },
          "execution_count": 12
        },
        {
          "output_type": "display_data",
          "data": {
            "image/png": "[encoded data removed]",
            "text/plain": [
              "<Figure size 432x288 with 1 Axes>"
            ]
          },
          "metadata": {
            "tags": [],
            "needs_background": "light"
          }
        }
      ]
    },
    {
      "cell_type": "markdown",
      "metadata": {
        "id": "Y4RcBV4Z2rFE"
      },
      "source": [
        "# RNN Model\n"
      ]
    },
    {
      "cell_type": "markdown",
      "metadata": {
        "id": "nFwX09S__nfh"
      },
      "source": [
        "## Train and val \n"
      ]
    },
    {
      "cell_type": "code",
      "metadata": {
        "id": "hx6Md-tdOBkD"
      },
      "source": [
        "def RNN():\n",
        "    inputs = Input(name='inputs',shape=[max_len]) # here shape taken as max no. of words in a tweet \n",
        "    layer = Embedding(max_words,50,input_length=max_len)(inputs) # input dim = max words, output dim = 50, input len = max_len \n",
        "    layer = LSTM(64)(layer)\n",
        "    layer = Dropout(0.5)(layer)\n",
        "    layer = Dense(256,name='FC1')(layer)\n",
        "    layer = Activation('relu')(layer)\n",
        "    layer = Dropout(0.8)(layer)\n",
        "    layer = Dense(1,name='out_layer')(layer) # output layer \n",
        "    layer = Activation('sigmoid')(layer)\n",
        "    model = Model(inputs=inputs,outputs=layer)\n",
        "    return model"
      ],
      "execution_count": null,
      "outputs": []
    },
    {
      "cell_type": "markdown",
      "metadata": {
        "id": "t0WiuNnGwl4c"
      },
      "source": [
        "# Train and val combined "
      ]
    },
    {
      "cell_type": "code",
      "metadata": {
        "id": "F8uax9RW_Squ"
      },
      "source": [
        "# Combine train and val data and spilt internally \n",
        "trainval = train.append(val, ignore_index= True)"
      ],
      "execution_count": null,
      "outputs": []
    },
    {
      "cell_type": "code",
      "metadata": {
        "id": "hQH2lQj4_Wbg",
        "outputId": "f8d5a841-a3bd-4676-e650-9691bcafc8fc",
        "colab": {
          "base_uri": "https://localhost:8080/"
        }
      },
      "source": [
        "trainval['Text']"
      ],
      "execution_count": null,
      "outputs": [
        {
          "output_type": "execute_result",
          "data": {
            "text/plain": [
              "0       Official death toll from #covid19 in the Unite...\n",
              "1       Dearest Mr. President @USER 1,169 coronavirus ...\n",
              "2       Latest Updates March 20 ⚠️5274 new cases and 3...\n",
              "3       真把公主不当干部 BREAKING: 21 people on Grand Princess...\n",
              "4       OKLAHOMA CITY — The State Department of Educat...\n",
              "                              ...                        \n",
              "7927    Coronavirus took hold in UK earlier than thoug...\n",
              "7928    I talked with a man who is Rowan County’s seco...\n",
              "7929    Governor Wolf delaying enforcement of non-life...\n",
              "7930    The Sheriff's Department has reduced the jail ...\n",
              "7931    BREAKING NEWS: 2 possible cases of #COVIDー19 i...\n",
              "Name: Text, Length: 7932, dtype: object"
            ]
          },
          "metadata": {
            "tags": []
          },
          "execution_count": 45
        }
      ]
    },
    {
      "cell_type": "code",
      "metadata": {
        "id": "1CZODIAkAZgQ",
        "outputId": "c01f98f5-4ef7-4381-ee26-aad1e2de9934",
        "colab": {
          "base_uri": "https://localhost:8080/"
        }
      },
      "source": [
        "le = LabelEncoder()\n",
        "\n",
        "X = trainval.Text \n",
        "Y = trainval.Label\n",
        "Y = le.fit_transform(Y)\n",
        "Y = Y.reshape(-1,1)\n",
        "print(X, Y)"
      ],
      "execution_count": null,
      "outputs": [
        {
          "output_type": "stream",
          "text": [
            "0       Official death toll from #covid19 in the Unite...\n",
            "1       Dearest Mr. President @USER 1,169 coronavirus ...\n",
            "2       Latest Updates March 20 ⚠️5274 new cases and 3...\n",
            "3       真把公主不当干部 BREAKING: 21 people on Grand Princess...\n",
            "4       OKLAHOMA CITY — The State Department of Educat...\n",
            "                              ...                        \n",
            "7927    Coronavirus took hold in UK earlier than thoug...\n",
            "7928    I talked with a man who is Rowan County’s seco...\n",
            "7929    Governor Wolf delaying enforcement of non-life...\n",
            "7930    The Sheriff's Department has reduced the jail ...\n",
            "7931    BREAKING NEWS: 2 possible cases of #COVIDー19 i...\n",
            "Name: Text, Length: 7932, dtype: object [[1]\n",
            " [1]\n",
            " [1]\n",
            " ...\n",
            " [0]\n",
            " [0]\n",
            " [1]]\n"
          ],
          "name": "stdout"
        }
      ]
    },
    {
      "cell_type": "code",
      "metadata": {
        "id": "H_TVGRhFj8Dx"
      },
      "source": [
        "max_words = 20000 # generally vocab of the set \n",
        "max_len = 80 # actual is around 70/80 \n",
        "tok = Tokenizer(num_words=max_words) # using keras tokenizer here \n",
        "k = tok.fit_on_texts(X)\n",
        "tok.fit_on_texts(X)\n",
        "sequences = tok.texts_to_sequences(X)\n",
        "sequences_matrix = sequence.pad_sequences(sequences,maxlen=max_len)"
      ],
      "execution_count": null,
      "outputs": []
    },
    {
      "cell_type": "code",
      "metadata": {
        "id": "gBPeltw4AXo_",
        "outputId": "1e1c90bc-ddb6-4552-fad6-f285c4289bf1",
        "colab": {
          "base_uri": "https://localhost:8080/",
          "height": 700
        }
      },
      "source": [
        "# create model\n",
        "model = RNN()\n",
        "# Compile model\n",
        "model.compile(loss='binary_crossentropy', optimizer='adam', metrics=['accuracy'])\n",
        "# Fit the model\n",
        "history = model.fit(sequences_matrix,Y,batch_size=128,epochs=10,validation_split=0.2, shuffle = True , callbacks=[EarlyStopping(monitor='val_loss',min_delta=0.0001)])\n",
        "# list all data in history\n",
        "print(history.history.keys())\n",
        "# summarize history for accuracy\n",
        "plt.plot(history.history['accuracy'])\n",
        "plt.plot(history.history['val_accuracy'])\n",
        "plt.title('model accuracy')\n",
        "plt.ylabel('accuracy')\n",
        "plt.xlabel('epoch')\n",
        "plt.legend(['train', 'test'], loc='upper left')\n",
        "plt.show()\n",
        "# summarize history for loss\n",
        "plt.plot(history.history['loss'])\n",
        "plt.plot(history.history['val_loss'])\n",
        "plt.title('model loss')\n",
        "plt.ylabel('loss')\n",
        "plt.xlabel('epoch')\n",
        "plt.legend(['train', 'test'], loc='upper left')\n",
        "plt.show()"
      ],
      "execution_count": null,
      "outputs": [
        {
          "output_type": "stream",
          "text": [
            "Epoch 1/10\n",
            "50/50 [==============================] - 1s 27ms/step - loss: 0.6836 - accuracy: 0.5623 - val_loss: 0.6104 - val_accuracy: 0.7335\n",
            "Epoch 2/10\n",
            "50/50 [==============================] - 1s 20ms/step - loss: 0.3963 - accuracy: 0.8323 - val_loss: 0.3960 - val_accuracy: 0.8299\n",
            "Epoch 3/10\n",
            "50/50 [==============================] - 1s 20ms/step - loss: 0.1760 - accuracy: 0.9385 - val_loss: 0.4589 - val_accuracy: 0.8248\n",
            "dict_keys(['loss', 'accuracy', 'val_loss', 'val_accuracy'])\n"
          ],
          "name": "stdout"
        },
        {
          "output_type": "display_data",
          "data": {
            "image/png": "[encoded data removed]",
            "text/plain": [
              "<Figure size 432x288 with 1 Axes>"
            ]
          },
          "metadata": {
            "tags": []
          }
        },
        {
          "output_type": "display_data",
          "data": {
            "image/png": "[encoded data removed]",
            "text/plain": [
              "<Figure size 432x288 with 1 Axes>"
            ]
          },
          "metadata": {
            "tags": []
          }
        }
      ]
    },
    {
      "cell_type": "code",
      "metadata": {
        "id": "QAg1oo1A6yEq",
        "outputId": "ced82e34-5dd9-4607-8339-6f6cb1e5a27d",
        "colab": {
          "base_uri": "https://localhost:8080/",
          "height": 35
        }
      },
      "source": [
        "\"\"\"\n",
        "accuracy: 0.9385 - val_loss: 0.4208 - val_accuracy: 0.8248\n",
        "\"\"\""
      ],
      "execution_count": null,
      "outputs": [
        {
          "output_type": "execute_result",
          "data": {
            "application/vnd.google.colaboratory.intrinsic+json": {
              "type": "string"
            },
            "text/plain": [
              "'\\naccuracy: 0.9385 - val_loss: 0.4208 - val_accuracy: 0.8248\\n'"
            ]
          },
          "metadata": {
            "tags": []
          },
          "execution_count": 49
        }
      ]
    },
    {
      "cell_type": "markdown",
      "metadata": {
        "id": "Snq91IkXq8qp"
      },
      "source": [
        "# Trying out glove embeddings "
      ]
    },
    {
      "cell_type": "code",
      "metadata": {
        "id": "iIjajd2BpSaJ",
        "outputId": "bc2cfbee-2e50-47c9-99e1-59a0f8106e73",
        "colab": {
          "base_uri": "https://localhost:8080/"
        }
      },
      "source": [
        "# Get embedding info from drive \n",
        "from google.colab import drive\n",
        "drive.mount('/content/gdrive')"
      ],
      "execution_count": null,
      "outputs": [
        {
          "output_type": "stream",
          "text": [
            "Mounted at /content/gdrive\n"
          ],
          "name": "stdout"
        }
      ]
    },
    {
      "cell_type": "code",
      "metadata": {
        "id": "mtfgVc2npbh6",
        "outputId": "71952025-c4a9-42cd-8993-90059a6c156e",
        "colab": {
          "base_uri": "https://localhost:8080/"
        }
      },
      "source": [
        "!unzip \"/content/gdrive/My Drive/1_SOP_NLP/glove.6B.zip\""
      ],
      "execution_count": null,
      "outputs": [
        {
          "output_type": "stream",
          "text": [
            "Archive:  /content/gdrive/My Drive/1_SOP_NLP/glove.6B.zip\n",
            "  inflating: glove.6B.100d.txt       \n",
            "  inflating: glove.6B.200d.txt       \n",
            "  inflating: glove.6B.300d.txt       \n",
            "  inflating: glove.6B.50d.txt        \n"
          ],
          "name": "stdout"
        }
      ]
    },
    {
      "cell_type": "code",
      "metadata": {
        "id": "MK2lAZS8m8Ok",
        "outputId": "56ec77f7-ac48-4595-ed2b-3cf586561120",
        "colab": {
          "base_uri": "https://localhost:8080/"
        }
      },
      "source": [
        "!unzip \"/content/gdrive/My Drive/1_SOP_NLP/glove.twitter.27B.zip\""
      ],
      "execution_count": null,
      "outputs": [
        {
          "output_type": "stream",
          "text": [
            "Archive:  /content/gdrive/My Drive/1_SOP_NLP/glove.twitter.27B.zip\n",
            "  inflating: glove.twitter.27B.100d.txt  \n",
            "  inflating: glove.twitter.27B.200d.txt  \n",
            "  inflating: glove.twitter.27B.25d.txt  \n",
            "  inflating: glove.twitter.27B.50d.txt  \n"
          ],
          "name": "stdout"
        }
      ]
    },
    {
      "cell_type": "code",
      "metadata": {
        "id": "3TcXJCHHUHWf"
      },
      "source": [
        "# Create corpus, all words in the vocabulary\n",
        "def create_corpus_new(df):\n",
        "    corpus=[]\n",
        "    for tweet in tqdm(df['Text']):\n",
        "        words=[word.lower() for word in word_tokenize(tweet)]\n",
        "        # words=[word.lower() for word in TweetTokenizer(tweet)]\n",
        "        corpus.append(words)\n",
        "    return corpus "
      ],
      "execution_count": null,
      "outputs": []
    },
    {
      "cell_type": "code",
      "metadata": {
        "id": "jXf2a6w6Ueba",
        "outputId": "bdf8408e-97d6-4844-d33a-8cc7909ccc17",
        "colab": {
          "base_uri": "https://localhost:8080/"
        }
      },
      "source": [
        "# train = TRAIN get training set \n",
        "train = TRAIN.append(VAL, ignore_index= True)\n",
        "corpus=create_corpus_new(train)\n",
        "print(corpus)\n",
        "print(len(corpus))"
      ],
      "execution_count": null,
      "outputs": [
        {
          "output_type": "stream",
          "text": [
            "100%|██████████| 7932/7932 [00:03<00:00, 2529.11it/s]\n"
          ],
          "name": "stderr"
        }
      ]
    },
    {
      "cell_type": "code",
      "metadata": {
        "id": "iNJ8NG7XVjpB"
      },
      "source": [
        "# Create an embedding dictionary using GloVe vectors \n",
        "# word and corresponding vector \n",
        "embedding_dict={}\n",
        "\n",
        "# with open('/content/SOP-COVID-Tweets-Text-Classification/glove.6B.100d.txt','r') as f:\n",
        "with open('/content/SOP-COVID-Tweets-Text-Classification/glove.twitter.27B.100d.txt','r') as f:\n",
        "    for line in f:\n",
        "        values=line.split()\n",
        "        word = values[0]\n",
        "        vectors=np.asarray(values[1:],'float32')\n",
        "        embedding_dict[word]=vectors\n",
        "f.close()"
      ],
      "execution_count": null,
      "outputs": []
    },
    {
      "cell_type": "code",
      "metadata": {
        "id": "RnHXVcXIV1i4",
        "outputId": "df36a243-02ac-4d10-f2cd-796885d72945",
        "colab": {
          "base_uri": "https://localhost:8080/"
        }
      },
      "source": [
        "# To pass to the model and tokenize \n",
        "MAX_LEN=80\n",
        "tokenizer_obj = Tokenizer()\n",
        "tokenizer_obj.fit_on_texts(corpus)\n",
        "sequences=tokenizer_obj.texts_to_sequences(corpus)\n",
        "\n",
        "tweet_pad = pad_sequences(sequences,maxlen=MAX_LEN,truncating='post',padding='post') # padded tweets \n",
        "\n",
        "word_index = tokenizer_obj.word_index # word index is the mapping words to integer, will be a dictionary \n",
        "print('Number of unique words:',len(word_index))"
      ],
      "execution_count": null,
      "outputs": [
        {
          "output_type": "stream",
          "text": [
            "Number of unique words: 26333\n"
          ],
          "name": "stdout"
        }
      ]
    },
    {
      "cell_type": "code",
      "metadata": {
        "id": "zyQkuJWjV21y",
        "outputId": "70e6c813-6304-4a6e-f5da-c22f831185a5",
        "colab": {
          "base_uri": "https://localhost:8080/"
        }
      },
      "source": [
        "num_words=len(word_index)+1\n",
        "embedding_matrix=np.zeros((num_words,100))\n",
        "\n",
        "for word,i in tqdm(word_index.items()):\n",
        "    if i < num_words:\n",
        "        emb_vec=embedding_dict.get(word)\n",
        "        if emb_vec is not None:\n",
        "            embedding_matrix[i]=emb_vec           \n"
      ],
      "execution_count": null,
      "outputs": [
        {
          "output_type": "stream",
          "text": [
            "100%|██████████| 26333/26333 [00:00<00:00, 553932.53it/s]\n"
          ],
          "name": "stderr"
        }
      ]
    },
    {
      "cell_type": "code",
      "metadata": {
        "id": "A8HXK0N5V28k",
        "outputId": "de3048f0-e3ba-432f-b223-9daba978d32d",
        "colab": {
          "base_uri": "https://localhost:8080/"
        }
      },
      "source": [
        "tweet_pad[0][0:]"
      ],
      "execution_count": null,
      "outputs": [
        {
          "output_type": "execute_result",
          "data": {
            "text/plain": [
              "array([  536,    71,   182,    18,     3,    22,     5,     2,   347,\n",
              "        2522,    15,    54,  1751,    83,    17,   396,   324,  4748,\n",
              "         324,  1441,   324,  2181,   324,  4078,   324,  2182,   324,\n",
              "        1093,   324,  2183,   324,  2523,   324,   943,    74,  2963,\n",
              "           1,   158,    17, 10735,   175,    40,  2184,   276,    39,\n",
              "        1128,   620,    17,  7321,   175,    40,  5702,   276,    39,\n",
              "           8,     0,     0,     0,     0,     0,     0,     0,     0,\n",
              "           0,     0,     0,     0,     0,     0,     0,     0,     0,\n",
              "           0,     0,     0,     0,     0,     0,     0,     0],\n",
              "      dtype=int32)"
            ]
          },
          "metadata": {
            "tags": []
          },
          "execution_count": 84
        }
      ]
    },
    {
      "cell_type": "code",
      "metadata": {
        "id": "8dZaTRasV3A7",
        "outputId": "242ac8c5-0a14-4ed6-9f48-60b97d8cde3a",
        "colab": {
          "base_uri": "https://localhost:8080/"
        }
      },
      "source": [
        "# model=Sequential()\n",
        "\n",
        "# embedding=Embedding(num_words,100,embeddings_initializer=Constant(embedding_matrix),\n",
        "#                    input_length=MAX_LEN,trainable=False)\n",
        "\n",
        "# model.add(embedding)\n",
        "# model.add(SpatialDropout1D(0.2))\n",
        "# model.add(LSTM(100, dropout=0.2, recurrent_dropout=0.2))\n",
        "# model.add(Dense(1, activation='sigmoid'))\n",
        "\n",
        "\n",
        "# optimzer=Adam(learning_rate=3e-4)\n",
        "\n",
        "# model.compile(loss='binary_crossentropy',optimizer=optimzer,metrics=['accuracy'])"
      ],
      "execution_count": null,
      "outputs": [
        {
          "output_type": "stream",
          "text": [
            "WARNING:tensorflow:Layer lstm_9 will not use cuDNN kernel since it doesn't meet the cuDNN kernel criteria. It will use generic GPU kernel as fallback when running on GPU\n"
          ],
          "name": "stdout"
        }
      ]
    },
    {
      "cell_type": "code",
      "metadata": {
        "id": "9bA_Z26SL7cp",
        "outputId": "1ad6378a-844c-49ba-ce9e-31654047a6b5",
        "colab": {
          "base_uri": "https://localhost:8080/"
        }
      },
      "source": [
        "model=Sequential()\n",
        "\n",
        "embedding=Embedding(num_words,100,embeddings_initializer=Constant(embedding_matrix),\n",
        "                   input_length=MAX_LEN,trainable=False)\n",
        "\n",
        "model.add(embedding)\n",
        "model.add(LSTM(64, dropout=0.2, recurrent_dropout=0.2))\n",
        "model.add(Dense(256, activation='relu'))\n",
        "model.add(Dropout(0.2))\n",
        "model.add(Dense(1, activation='sigmoid'))\n",
        "\n",
        "\n",
        "optimzer=Adam(learning_rate=3e-4)\n",
        "\n",
        "model.compile(loss='binary_crossentropy',optimizer=optimzer,metrics=['accuracy'])"
      ],
      "execution_count": null,
      "outputs": [
        {
          "output_type": "stream",
          "text": [
            "WARNING:tensorflow:Layer lstm_11 will not use cuDNN kernel since it doesn't meet the cuDNN kernel criteria. It will use generic GPU kernel as fallback when running on GPU\n"
          ],
          "name": "stdout"
        }
      ]
    },
    {
      "cell_type": "code",
      "metadata": {
        "id": "hyVwGW9JWEmM",
        "outputId": "814253f5-7ce0-481e-bd27-6b8f4c0614fa",
        "colab": {
          "base_uri": "https://localhost:8080/"
        }
      },
      "source": [
        "model.summary()"
      ],
      "execution_count": null,
      "outputs": [
        {
          "output_type": "stream",
          "text": [
            "Model: \"sequential_4\"\n",
            "_________________________________________________________________\n",
            "Layer (type)                 Output Shape              Param #   \n",
            "=================================================================\n",
            "embedding_11 (Embedding)     (None, 80, 100)           2633400   \n",
            "_________________________________________________________________\n",
            "lstm_11 (LSTM)               (None, 64)                42240     \n",
            "_________________________________________________________________\n",
            "dense_6 (Dense)              (None, 256)               16640     \n",
            "_________________________________________________________________\n",
            "dropout_11 (Dropout)         (None, 256)               0         \n",
            "_________________________________________________________________\n",
            "dense_7 (Dense)              (None, 1)                 257       \n",
            "=================================================================\n",
            "Total params: 2,692,537\n",
            "Trainable params: 59,137\n",
            "Non-trainable params: 2,633,400\n",
            "_________________________________________________________________\n"
          ],
          "name": "stdout"
        }
      ]
    },
    {
      "cell_type": "code",
      "metadata": {
        "id": "puf6kNuwWJIi"
      },
      "source": [
        "tr = tweet_pad[:train.shape[0]]\n",
        "te = tweet_pad[train.shape[0]:]\n",
        "# tweet_pad.shape"
      ],
      "execution_count": null,
      "outputs": []
    },
    {
      "cell_type": "code",
      "metadata": {
        "id": "7SIgzI8YWJuD",
        "outputId": "5a962d05-961a-4951-9afb-e083bcbe9b54",
        "colab": {
          "base_uri": "https://localhost:8080/"
        }
      },
      "source": [
        "X_train,X_test,y_train,y_test=train_test_split(tr ,train['Label'].values,test_size=0.2)\n",
        "print('Shape of train',X_train.shape)\n",
        "print(\"Shape of Validation \",X_test.shape)"
      ],
      "execution_count": null,
      "outputs": [
        {
          "output_type": "stream",
          "text": [
            "Shape of train (6345, 80)\n",
            "Shape of Validation  (1587, 80)\n"
          ],
          "name": "stdout"
        }
      ]
    },
    {
      "cell_type": "code",
      "metadata": {
        "id": "852Dfed2Gg5v",
        "outputId": "69f3ba13-5703-43e1-8504-1817dfc18af5",
        "colab": {
          "base_uri": "https://localhost:8080/",
          "height": 751
        }
      },
      "source": [
        "history=model.fit(X_train,y_train,batch_size=64,epochs=5,validation_data=(X_test,y_test),verbose=2) #callbacks=[EarlyStopping(monitor='val_loss',min_delta=0.000001)])\n",
        "\n",
        "# model.fit(sequences_matrix,Y,batch_size=128,epochs=10,validation_split=0.2, shuffle = True , callbacks=[EarlyStopping(monitor='val_loss',min_delta=0.0001)])\n",
        "\n",
        "plt.plot(history.history['accuracy'])\n",
        "plt.plot(history.history['val_accuracy'])\n",
        "plt.title('model accuracy')\n",
        "plt.ylabel('accuracy')\n",
        "plt.xlabel('epoch')\n",
        "plt.legend(['train', 'test'], loc='upper left')\n",
        "plt.show()\n",
        "# summarize history for loss\n",
        "plt.plot(history.history['loss'])\n",
        "plt.plot(history.history['val_loss'])\n",
        "plt.title('model loss')\n",
        "plt.ylabel('loss')\n",
        "plt.xlabel('epoch')\n",
        "plt.legend(['train', 'test'], loc='upper left')\n",
        "plt.show()"
      ],
      "execution_count": null,
      "outputs": [
        {
          "output_type": "stream",
          "text": [
            "Epoch 1/5\n",
            "100/100 - 28s - loss: 0.3199 - accuracy: 0.8586 - val_loss: 0.3474 - val_accuracy: 0.8614\n",
            "Epoch 2/5\n",
            "100/100 - 27s - loss: 0.3214 - accuracy: 0.8634 - val_loss: 0.3738 - val_accuracy: 0.8614\n",
            "Epoch 3/5\n",
            "100/100 - 27s - loss: 0.3015 - accuracy: 0.8712 - val_loss: 0.3800 - val_accuracy: 0.8658\n",
            "Epoch 4/5\n",
            "100/100 - 27s - loss: 0.2953 - accuracy: 0.8736 - val_loss: 0.3697 - val_accuracy: 0.8563\n",
            "Epoch 5/5\n",
            "100/100 - 27s - loss: 0.2957 - accuracy: 0.8720 - val_loss: 0.3229 - val_accuracy: 0.8765\n"
          ],
          "name": "stdout"
        },
        {
          "output_type": "display_data",
          "data": {
            "image/png": "[encoded data removed]",
            "text/plain": [
              "<Figure size 432x288 with 1 Axes>"
            ]
          },
          "metadata": {
            "tags": []
          }
        },
        {
          "output_type": "display_data",
          "data": {
            "image/png": "[encoded data removed]",
            "text/plain": [
              "<Figure size 432x288 with 1 Axes>"
            ]
          },
          "metadata": {
            "tags": []
          }
        }
      ]
    },
    {
      "cell_type": "code",
      "metadata": {
        "id": "knAjy5_RboET"
      },
      "source": [
        "Epoch 5/5\n",
        "100/100 - 27s - loss: 0.3209 - accuracy: 0.8638 - val_loss: 0.3337 - val_accuracy: 0.8658\n",
        "Epoch 5/5\n",
        "100/100 - 27s - loss: 0.2957 - accuracy: 0.8720 - val_loss: 0.3229 - val_accuracy: 0.8765\n",
        "\n",
        "# Can do 30 then "
      ],
      "execution_count": null,
      "outputs": []
    }
  ]
}