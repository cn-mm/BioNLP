{
 "cells": [
  {
   "cell_type": "code",
   "execution_count": 1,
   "metadata": {},
   "outputs": [
    {
     "name": "stdout",
     "output_type": "stream",
     "text": [
      "hello\n"
     ]
    }
   ],
   "source": [
    "print(\"hello\")"
   ]
  },
  {
   "cell_type": "code",
   "execution_count": 2,
   "metadata": {},
   "outputs": [],
   "source": [
    "import nltk"
   ]
  },
  {
   "cell_type": "code",
   "execution_count": 3,
   "metadata": {},
   "outputs": [],
   "source": [
    "import numpy as np\n",
    "import pandas as pd\n",
    "\n",
    "import matplotlib.pyplot as plt\n",
    "import seaborn as sns\n",
    "\n",
    "import warnings"
   ]
  },
  {
   "cell_type": "code",
   "execution_count": 26,
   "metadata": {},
   "outputs": [
    {
     "name": "stdout",
     "output_type": "stream",
     "text": [
      "(6936, 3)\n",
      "(1000, 3)\n",
      "(12000, 2)\n"
     ]
    }
   ],
   "source": [
    "train = pd.read_csv(r'C:\\Users\\Hp\\Desktop\\Python\\NLP\\COVID19Tweet-master\\train.tsv', sep='\\t')\n",
    "val = pd.read_csv(r'C:\\Users\\Hp\\Desktop\\Python\\NLP\\COVID19Tweet-master\\valid.tsv', sep='\\t')\n",
    "test = pd.read_csv(r'C:\\Users\\Hp\\Desktop\\Python\\NLP\\COVID19Tweet-master\\unlabeled_test_with_noise.tsv', sep='\\t')\n",
    "print(train.shape)\n",
    "print(val.shape)\n",
    "print(test.shape)\n"
   ]
  },
  {
   "cell_type": "code",
   "execution_count": 29,
   "metadata": {},
   "outputs": [
    {
     "data": {
      "text/html": [
       "<div>\n",
       "<style scoped>\n",
       "    .dataframe tbody tr th:only-of-type {\n",
       "        vertical-align: middle;\n",
       "    }\n",
       "\n",
       "    .dataframe tbody tr th {\n",
       "        vertical-align: top;\n",
       "    }\n",
       "\n",
       "    .dataframe thead th {\n",
       "        text-align: right;\n",
       "    }\n",
       "</style>\n",
       "<table border=\"1\" class=\"dataframe\">\n",
       "  <thead>\n",
       "    <tr style=\"text-align: right;\">\n",
       "      <th></th>\n",
       "      <th>Id</th>\n",
       "      <th>Text</th>\n",
       "      <th>Label</th>\n",
       "    </tr>\n",
       "  </thead>\n",
       "  <tbody>\n",
       "    <tr>\n",
       "      <th>0</th>\n",
       "      <td>1241728922192142336</td>\n",
       "      <td>For those saying Pakistan isn’t Italy; After 3...</td>\n",
       "      <td>UNINFORMATIVE</td>\n",
       "    </tr>\n",
       "    <tr>\n",
       "      <th>1</th>\n",
       "      <td>1235713405992030209</td>\n",
       "      <td>Second case DR 🇩🇴 The Canadian woman has not b...</td>\n",
       "      <td>INFORMATIVE</td>\n",
       "    </tr>\n",
       "    <tr>\n",
       "      <th>2</th>\n",
       "      <td>1245941302367305728</td>\n",
       "      <td>Kill Chain: the cyber war on America's electio...</td>\n",
       "      <td>UNINFORMATIVE</td>\n",
       "    </tr>\n",
       "    <tr>\n",
       "      <th>3</th>\n",
       "      <td>1245913002840391681</td>\n",
       "      <td>Town hosts FIRST #Virtual #TownCouncil meeting...</td>\n",
       "      <td>UNINFORMATIVE</td>\n",
       "    </tr>\n",
       "    <tr>\n",
       "      <th>4</th>\n",
       "      <td>1240543259299987457</td>\n",
       "      <td>Report suggested that the actual number of und...</td>\n",
       "      <td>UNINFORMATIVE</td>\n",
       "    </tr>\n",
       "  </tbody>\n",
       "</table>\n",
       "</div>"
      ],
      "text/plain": [
       "                    Id                                               Text  \\\n",
       "0  1241728922192142336  For those saying Pakistan isn’t Italy; After 3...   \n",
       "1  1235713405992030209  Second case DR 🇩🇴 The Canadian woman has not b...   \n",
       "2  1245941302367305728  Kill Chain: the cyber war on America's electio...   \n",
       "3  1245913002840391681  Town hosts FIRST #Virtual #TownCouncil meeting...   \n",
       "4  1240543259299987457  Report suggested that the actual number of und...   \n",
       "\n",
       "           Label  \n",
       "0  UNINFORMATIVE  \n",
       "1    INFORMATIVE  \n",
       "2  UNINFORMATIVE  \n",
       "3  UNINFORMATIVE  \n",
       "4  UNINFORMATIVE  "
      ]
     },
     "execution_count": 29,
     "metadata": {},
     "output_type": "execute_result"
    }
   ],
   "source": [
    "val.head()"
   ]
  },
  {
   "cell_type": "code",
   "execution_count": null,
   "metadata": {},
   "outputs": [],
   "source": [
    "# Edit val and test by adding labels \n",
    "# okay \\n separation is giving me 7000 training examples which is what I need but \\t separated gives 6936? "
   ]
  },
  {
   "cell_type": "code",
   "execution_count": 25,
   "metadata": {},
   "outputs": [
    {
     "data": {
      "text/plain": [
       "Id       False\n",
       "Text     False\n",
       "Label    False\n",
       "dtype: bool"
      ]
     },
     "execution_count": 25,
     "metadata": {},
     "output_type": "execute_result"
    }
   ],
   "source": [
    "train.isnull().any()\n"
   ]
  },
  {
   "cell_type": "code",
   "execution_count": 31,
   "metadata": {},
   "outputs": [
    {
     "data": {
      "text/html": [
       "<div>\n",
       "<style scoped>\n",
       "    .dataframe tbody tr th:only-of-type {\n",
       "        vertical-align: middle;\n",
       "    }\n",
       "\n",
       "    .dataframe tbody tr th {\n",
       "        vertical-align: top;\n",
       "    }\n",
       "\n",
       "    .dataframe thead th {\n",
       "        text-align: right;\n",
       "    }\n",
       "</style>\n",
       "<table border=\"1\" class=\"dataframe\">\n",
       "  <thead>\n",
       "    <tr style=\"text-align: right;\">\n",
       "      <th></th>\n",
       "      <th>Id</th>\n",
       "      <th>Text</th>\n",
       "      <th>Label</th>\n",
       "    </tr>\n",
       "  </thead>\n",
       "  <tbody>\n",
       "    <tr>\n",
       "      <th>4</th>\n",
       "      <td>1239673817552879619</td>\n",
       "      <td>OKLAHOMA CITY — The State Department of Educat...</td>\n",
       "      <td>UNINFORMATIVE</td>\n",
       "    </tr>\n",
       "    <tr>\n",
       "      <th>5</th>\n",
       "      <td>1240790181860409344</td>\n",
       "      <td>Democrats somehow managed to fight ebola witho...</td>\n",
       "      <td>UNINFORMATIVE</td>\n",
       "    </tr>\n",
       "    <tr>\n",
       "      <th>8</th>\n",
       "      <td>1236363091002011649</td>\n",
       "      <td>“Coronavirus impact: Close Taj Mahal till Marc...</td>\n",
       "      <td>UNINFORMATIVE</td>\n",
       "    </tr>\n",
       "    <tr>\n",
       "      <th>9</th>\n",
       "      <td>1245725162957242368</td>\n",
       "      <td>Dear @USER In #COVID2019 case...give tools &amp;am...</td>\n",
       "      <td>UNINFORMATIVE</td>\n",
       "    </tr>\n",
       "    <tr>\n",
       "      <th>10</th>\n",
       "      <td>1240721152076546049</td>\n",
       "      <td>Los Angeles is now the county with the highest...</td>\n",
       "      <td>UNINFORMATIVE</td>\n",
       "    </tr>\n",
       "    <tr>\n",
       "      <th>12</th>\n",
       "      <td>1242799513619664896</td>\n",
       "      <td>Watch Live !! Discussion on #COVID19 with Unio...</td>\n",
       "      <td>UNINFORMATIVE</td>\n",
       "    </tr>\n",
       "    <tr>\n",
       "      <th>13</th>\n",
       "      <td>1251122786225045504</td>\n",
       "      <td>Coronavirus cases in Africa could shoot up fro...</td>\n",
       "      <td>UNINFORMATIVE</td>\n",
       "    </tr>\n",
       "    <tr>\n",
       "      <th>14</th>\n",
       "      <td>1241449715654410240</td>\n",
       "      <td>“According to their report if you come in cont...</td>\n",
       "      <td>UNINFORMATIVE</td>\n",
       "    </tr>\n",
       "    <tr>\n",
       "      <th>15</th>\n",
       "      <td>1241173819693252608</td>\n",
       "      <td>Senators urge Jeff Bezos to give Amazon wareho...</td>\n",
       "      <td>UNINFORMATIVE</td>\n",
       "    </tr>\n",
       "    <tr>\n",
       "      <th>20</th>\n",
       "      <td>1244684987351404551</td>\n",
       "      <td>I think the President Cyril Ramaphosa should a...</td>\n",
       "      <td>UNINFORMATIVE</td>\n",
       "    </tr>\n",
       "  </tbody>\n",
       "</table>\n",
       "</div>"
      ],
      "text/plain": [
       "                     Id                                               Text  \\\n",
       "4   1239673817552879619  OKLAHOMA CITY — The State Department of Educat...   \n",
       "5   1240790181860409344  Democrats somehow managed to fight ebola witho...   \n",
       "8   1236363091002011649  “Coronavirus impact: Close Taj Mahal till Marc...   \n",
       "9   1245725162957242368  Dear @USER In #COVID2019 case...give tools &am...   \n",
       "10  1240721152076546049  Los Angeles is now the county with the highest...   \n",
       "12  1242799513619664896  Watch Live !! Discussion on #COVID19 with Unio...   \n",
       "13  1251122786225045504  Coronavirus cases in Africa could shoot up fro...   \n",
       "14  1241449715654410240  “According to their report if you come in cont...   \n",
       "15  1241173819693252608  Senators urge Jeff Bezos to give Amazon wareho...   \n",
       "20  1244684987351404551  I think the President Cyril Ramaphosa should a...   \n",
       "\n",
       "            Label  \n",
       "4   UNINFORMATIVE  \n",
       "5   UNINFORMATIVE  \n",
       "8   UNINFORMATIVE  \n",
       "9   UNINFORMATIVE  \n",
       "10  UNINFORMATIVE  \n",
       "12  UNINFORMATIVE  \n",
       "13  UNINFORMATIVE  \n",
       "14  UNINFORMATIVE  \n",
       "15  UNINFORMATIVE  \n",
       "20  UNINFORMATIVE  "
      ]
     },
     "execution_count": 31,
     "metadata": {},
     "output_type": "execute_result"
    }
   ],
   "source": [
    "train[train['Label'] == 'UNINFORMATIVE'].head(10)"
   ]
  },
  {
   "cell_type": "code",
   "execution_count": 32,
   "metadata": {},
   "outputs": [
    {
     "data": {
      "text/html": [
       "<div>\n",
       "<style scoped>\n",
       "    .dataframe tbody tr th:only-of-type {\n",
       "        vertical-align: middle;\n",
       "    }\n",
       "\n",
       "    .dataframe tbody tr th {\n",
       "        vertical-align: top;\n",
       "    }\n",
       "\n",
       "    .dataframe thead th {\n",
       "        text-align: right;\n",
       "    }\n",
       "</style>\n",
       "<table border=\"1\" class=\"dataframe\">\n",
       "  <thead>\n",
       "    <tr style=\"text-align: right;\">\n",
       "      <th></th>\n",
       "      <th>Id</th>\n",
       "      <th>Text</th>\n",
       "      <th>Label</th>\n",
       "    </tr>\n",
       "  </thead>\n",
       "  <tbody>\n",
       "    <tr>\n",
       "      <th>0</th>\n",
       "      <td>1241490299215634434</td>\n",
       "      <td>Official death toll from #covid19 in the Unite...</td>\n",
       "      <td>INFORMATIVE</td>\n",
       "    </tr>\n",
       "    <tr>\n",
       "      <th>1</th>\n",
       "      <td>1245916400981381130</td>\n",
       "      <td>Dearest Mr. President @USER 1,169 coronavirus ...</td>\n",
       "      <td>INFORMATIVE</td>\n",
       "    </tr>\n",
       "    <tr>\n",
       "      <th>2</th>\n",
       "      <td>1241132432402849793</td>\n",
       "      <td>Latest Updates March 20 ⚠️5274 new cases and 3...</td>\n",
       "      <td>INFORMATIVE</td>\n",
       "    </tr>\n",
       "    <tr>\n",
       "      <th>3</th>\n",
       "      <td>1236107253666607104</td>\n",
       "      <td>真把公主不当干部 BREAKING: 21 people on Grand Princess...</td>\n",
       "      <td>INFORMATIVE</td>\n",
       "    </tr>\n",
       "    <tr>\n",
       "      <th>6</th>\n",
       "      <td>1249147011003187200</td>\n",
       "      <td>as number of #COVID19 deaths surpassed 100,000...</td>\n",
       "      <td>INFORMATIVE</td>\n",
       "    </tr>\n",
       "    <tr>\n",
       "      <th>7</th>\n",
       "      <td>1241533144802758656</td>\n",
       "      <td>@USER @USER 1 week ago today (March 14), there...</td>\n",
       "      <td>INFORMATIVE</td>\n",
       "    </tr>\n",
       "    <tr>\n",
       "      <th>11</th>\n",
       "      <td>1246739551227387905</td>\n",
       "      <td>#COVID19 Updates. #SothSudan's fist positive p...</td>\n",
       "      <td>INFORMATIVE</td>\n",
       "    </tr>\n",
       "    <tr>\n",
       "      <th>16</th>\n",
       "      <td>1245311331579899906</td>\n",
       "      <td>A @USER professor has died after contracting #...</td>\n",
       "      <td>INFORMATIVE</td>\n",
       "    </tr>\n",
       "    <tr>\n",
       "      <th>17</th>\n",
       "      <td>1240108182409601024</td>\n",
       "      <td>EU imposes entry ban for 30 days while death t...</td>\n",
       "      <td>INFORMATIVE</td>\n",
       "    </tr>\n",
       "    <tr>\n",
       "      <th>18</th>\n",
       "      <td>1248321628808728576</td>\n",
       "      <td>إِنَّا لِلّهِ وَإِنَّـا إِلَيْهِ رَاجِعُونَ Sa...</td>\n",
       "      <td>INFORMATIVE</td>\n",
       "    </tr>\n",
       "  </tbody>\n",
       "</table>\n",
       "</div>"
      ],
      "text/plain": [
       "                     Id                                               Text  \\\n",
       "0   1241490299215634434  Official death toll from #covid19 in the Unite...   \n",
       "1   1245916400981381130  Dearest Mr. President @USER 1,169 coronavirus ...   \n",
       "2   1241132432402849793  Latest Updates March 20 ⚠️5274 new cases and 3...   \n",
       "3   1236107253666607104  真把公主不当干部 BREAKING: 21 people on Grand Princess...   \n",
       "6   1249147011003187200  as number of #COVID19 deaths surpassed 100,000...   \n",
       "7   1241533144802758656  @USER @USER 1 week ago today (March 14), there...   \n",
       "11  1246739551227387905  #COVID19 Updates. #SothSudan's fist positive p...   \n",
       "16  1245311331579899906  A @USER professor has died after contracting #...   \n",
       "17  1240108182409601024  EU imposes entry ban for 30 days while death t...   \n",
       "18  1248321628808728576  إِنَّا لِلّهِ وَإِنَّـا إِلَيْهِ رَاجِعُونَ Sa...   \n",
       "\n",
       "          Label  \n",
       "0   INFORMATIVE  \n",
       "1   INFORMATIVE  \n",
       "2   INFORMATIVE  \n",
       "3   INFORMATIVE  \n",
       "6   INFORMATIVE  \n",
       "7   INFORMATIVE  \n",
       "11  INFORMATIVE  \n",
       "16  INFORMATIVE  \n",
       "17  INFORMATIVE  \n",
       "18  INFORMATIVE  "
      ]
     },
     "execution_count": 32,
     "metadata": {},
     "output_type": "execute_result"
    }
   ],
   "source": [
    "train[train['Label'] == 'INFORMATIVE'].head(10)"
   ]
  },
  {
   "cell_type": "code",
   "execution_count": 40,
   "metadata": {},
   "outputs": [
    {
     "name": "stdout",
     "output_type": "stream",
     "text": [
      "UNINFORMATIVE    3663\n",
      "INFORMATIVE      3273\n",
      "Name: Label, dtype: int64\n"
     ]
    },
    {
     "data": {
      "image/png": "[encoded data removed]",
      "text/plain": [
       "<Figure size 360x360 with 1 Axes>"
      ]
     },
     "metadata": {
      "needs_background": "light"
     },
     "output_type": "display_data"
    }
   ],
   "source": [
    "train['Label'].value_counts().plot.bar(color = 'pink', figsize = (5, 5)) # pandas function \n",
    "print(train['Label'].value_counts())"
   ]
  },
  {
   "cell_type": "code",
   "execution_count": 46,
   "metadata": {},
   "outputs": [
    {
     "data": {
      "image/png": "[encoded data removed]",
      "text/plain": [
       "<Figure size 1080x288 with 1 Axes>"
      ]
     },
     "metadata": {
      "needs_background": "light"
     },
     "output_type": "display_data"
    }
   ],
   "source": [
    "# checking the distribution of tweets in the data\n",
    "\n",
    "#length_train = train['Text'].str.len().plot.hist(color = 'pink', figsize = (15, 4))\n",
    "length_test = test['Text'].str.len().plot.hist(color = 'orange', figsize = (15, 4))"
   ]
  },
  {
   "cell_type": "code",
   "execution_count": 48,
   "metadata": {},
   "outputs": [
    {
     "name": "stdout",
     "output_type": "stream",
     "text": [
      "0         90\n",
      "1        259\n",
      "2        181\n",
      "3        195\n",
      "4        212\n",
      "        ... \n",
      "11995     92\n",
      "11996     79\n",
      "11997    222\n",
      "11998    253\n",
      "11999    280\n",
      "Name: Text, Length: 12000, dtype: int64\n"
     ]
    }
   ],
   "source": [
    "print(test['Text'].str.len())"
   ]
  },
  {
   "cell_type": "code",
   "execution_count": 49,
   "metadata": {},
   "outputs": [
    {
     "data": {
      "text/html": [
       "<div>\n",
       "<style scoped>\n",
       "    .dataframe tbody tr th:only-of-type {\n",
       "        vertical-align: middle;\n",
       "    }\n",
       "\n",
       "    .dataframe tbody tr th {\n",
       "        vertical-align: top;\n",
       "    }\n",
       "\n",
       "    .dataframe thead tr th {\n",
       "        text-align: left;\n",
       "    }\n",
       "\n",
       "    .dataframe thead tr:last-of-type th {\n",
       "        text-align: right;\n",
       "    }\n",
       "</style>\n",
       "<table border=\"1\" class=\"dataframe\">\n",
       "  <thead>\n",
       "    <tr>\n",
       "      <th></th>\n",
       "      <th colspan=\"8\" halign=\"left\">Id</th>\n",
       "    </tr>\n",
       "    <tr>\n",
       "      <th></th>\n",
       "      <th>count</th>\n",
       "      <th>mean</th>\n",
       "      <th>std</th>\n",
       "      <th>min</th>\n",
       "      <th>25%</th>\n",
       "      <th>50%</th>\n",
       "      <th>75%</th>\n",
       "      <th>max</th>\n",
       "    </tr>\n",
       "    <tr>\n",
       "      <th>Label</th>\n",
       "      <th></th>\n",
       "      <th></th>\n",
       "      <th></th>\n",
       "      <th></th>\n",
       "      <th></th>\n",
       "      <th></th>\n",
       "      <th></th>\n",
       "      <th></th>\n",
       "    </tr>\n",
       "  </thead>\n",
       "  <tbody>\n",
       "    <tr>\n",
       "      <th>INFORMATIVE</th>\n",
       "      <td>3273.0</td>\n",
       "      <td>1.242323e+18</td>\n",
       "      <td>4.337500e+15</td>\n",
       "      <td>1.235405e+18</td>\n",
       "      <td>1.240011e+18</td>\n",
       "      <td>1.241628e+18</td>\n",
       "      <td>1.245831e+18</td>\n",
       "      <td>1.252189e+18</td>\n",
       "    </tr>\n",
       "    <tr>\n",
       "      <th>UNINFORMATIVE</th>\n",
       "      <td>3663.0</td>\n",
       "      <td>1.242879e+18</td>\n",
       "      <td>4.269091e+15</td>\n",
       "      <td>1.235396e+18</td>\n",
       "      <td>1.240711e+18</td>\n",
       "      <td>1.242864e+18</td>\n",
       "      <td>1.245915e+18</td>\n",
       "      <td>1.252198e+18</td>\n",
       "    </tr>\n",
       "  </tbody>\n",
       "</table>\n",
       "</div>"
      ],
      "text/plain": [
       "                   Id                                                          \\\n",
       "                count          mean           std           min           25%   \n",
       "Label                                                                           \n",
       "INFORMATIVE    3273.0  1.242323e+18  4.337500e+15  1.235405e+18  1.240011e+18   \n",
       "UNINFORMATIVE  3663.0  1.242879e+18  4.269091e+15  1.235396e+18  1.240711e+18   \n",
       "\n",
       "                                                         \n",
       "                        50%           75%           max  \n",
       "Label                                                    \n",
       "INFORMATIVE    1.241628e+18  1.245831e+18  1.252189e+18  \n",
       "UNINFORMATIVE  1.242864e+18  1.245915e+18  1.252198e+18  "
      ]
     },
     "execution_count": 49,
     "metadata": {},
     "output_type": "execute_result"
    }
   ],
   "source": [
    "train.groupby('Label').describe()"
   ]
  },
  {
   "cell_type": "code",
   "execution_count": null,
   "metadata": {},
   "outputs": [],
   "source": []
  }
 ],
 "metadata": {
  "kernelspec": {
   "display_name": "Python [conda env:nlp] *",
   "language": "python",
   "name": "conda-env-nlp-py"
  },
  "language_info": {
   "codemirror_mode": {
    "name": "ipython",
    "version": 3
   },
   "file_extension": ".py",
   "mimetype": "text/x-python",
   "name": "python",
   "nbconvert_exporter": "python",
   "pygments_lexer": "ipython3",
   "version": "3.8.5"
  }
 },
 "nbformat": 4,
 "nbformat_minor": 4
}
