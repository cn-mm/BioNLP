{
  "nbformat": 4,
  "nbformat_minor": 0,
  "metadata": {
    "accelerator": "GPU",
    "colab": {
      "name": "RNN Model.ipynb",
      "provenance": [],
      "collapsed_sections": [
        "dmlBwx5Pqryx",
        "DjhC3x_bz2r0",
        "_WOQ-wYx-xja",
        "HIXAJqDE-cCE",
        "D01s9lehfYuI",
        "Loxxelr4g17f"
      ],
      "authorship_tag": "ABX9TyNc8CCOKyyir3wkryMsie+/",
      "include_colab_link": true
    },
    "kernelspec": {
      "display_name": "Python 3",
      "name": "python3"
    }
  },
  "cells": [
    {
      "cell_type": "markdown",
      "metadata": {
        "id": "view-in-github",
        "colab_type": "text"
      },
      "source": [
        "<a href=\"https://colab.research.google.com/github/cn-mm/SOP-COVID-Tweets-Text-Classification/blob/master/Final_Models.ipynb\" target=\"_parent\"><img src=\"https://colab.research.google.com/assets/colab-badge.svg\" alt=\"Open In Colab\"/></a>"
      ]
    },
    {
      "cell_type": "markdown",
      "metadata": {
        "id": "IpB9FNl0T4oj"
      },
      "source": [
        "# Getting the repository "
      ]
    },
    {
      "cell_type": "code",
      "metadata": {
        "colab": {
          "base_uri": "https://localhost:8080/"
        },
        "id": "7j9_0nCl17OO",
        "outputId": "e4ea735a-b337-4bc8-b208-abdc7302b476"
      },
      "source": [
        "# Cloning Repo\n",
        "!git clone https://github.com/cn-mm/SOP-COVID-Tweets-Text-Classification.git"
      ],
      "execution_count": null,
      "outputs": [
        {
          "output_type": "stream",
          "text": [
            "Cloning into 'SOP-COVID-Tweets-Text-Classification'...\n",
            "remote: Enumerating objects: 62, done.\u001b[K\n",
            "remote: Counting objects: 100% (62/62), done.\u001b[K\n",
            "remote: Compressing objects: 100% (52/52), done.\u001b[K\n",
            "remote: Total 62 (delta 24), reused 22 (delta 8), pack-reused 0\u001b[K\n",
            "Unpacking objects: 100% (62/62), done.\n"
          ],
          "name": "stdout"
        }
      ]
    },
    {
      "cell_type": "code",
      "metadata": {
        "colab": {
          "base_uri": "https://localhost:8080/"
        },
        "id": "B_os7tLG2CS8",
        "outputId": "ffed59e9-800c-40bd-a93d-601f44e5439a"
      },
      "source": [
        "# Change directory \n",
        "%cd /content/SOP-COVID-Tweets-Text-Classification"
      ],
      "execution_count": null,
      "outputs": [
        {
          "output_type": "stream",
          "text": [
            "/content/SOP-COVID-Tweets-Text-Classification\n"
          ],
          "name": "stdout"
        }
      ]
    },
    {
      "cell_type": "markdown",
      "metadata": {
        "id": "OWEBoDm5aHC3"
      },
      "source": [
        "### Libraries"
      ]
    },
    {
      "cell_type": "code",
      "metadata": {
        "colab": {
          "base_uri": "https://localhost:8080/"
        },
        "id": "pOWuXHiI2DyX",
        "outputId": "b5cd583d-db1b-40b5-ab4e-bcd1141755a8"
      },
      "source": [
        "# Importing Libraries \n",
        "import pandas as pd\n",
        "from matplotlib import pyplot as plt\n",
        "import numpy as np\n",
        "\n",
        "# nltk\n",
        "import nltk \n",
        "from nltk.corpus import stopwords\n",
        "from nltk.util import ngrams\n",
        "from nltk.tokenize import TweetTokenizer\n",
        "from nltk.tokenize import word_tokenize\n",
        "nltk.download('stopwords')\n",
        "nltk.download('punkt')\n",
        "\n",
        "from wordcloud import WordCloud\n",
        "\n",
        "# sklearn\n",
        "from sklearn.feature_extraction.text import CountVectorizer, TfidfVectorizer\n",
        "from sklearn.model_selection import train_test_split\n",
        "from sklearn.decomposition import PCA, TruncatedSVD\n",
        "from sklearn.metrics import classification_report,confusion_matrix\n",
        "from sklearn.preprocessing import LabelEncoder\n",
        "stop=set(stopwords.words('english'))\n",
        "\n",
        "import re\n",
        "import gensim\n",
        "import string\n",
        "\n",
        "# Tensorflow \n",
        "import tensorflow as tf\n",
        "from tensorflow.keras.layers import Dense, Input\n",
        "from tensorflow.keras.optimizers import Adam\n",
        "from tensorflow.keras.models import Model\n",
        "from tensorflow.keras.callbacks import ModelCheckpoint\n",
        "import tensorflow_hub as hub\n",
        "\n",
        "# keras\n",
        "import seaborn as sns\n",
        "from tqdm import tqdm\n",
        "from keras.preprocessing.text import Tokenizer\n",
        "from keras.preprocessing.sequence import pad_sequences\n",
        "from keras.models import Sequential\n",
        "from keras.layers import Embedding, LSTM,Dense, SpatialDropout1D, Dropout, Activation \n",
        "from keras.initializers import Constant\n",
        "from keras.models import Model\n",
        "from keras.optimizers import Adam, RMSprop\n",
        "from keras.preprocessing import sequence\n",
        "from keras.utils import to_categorical\n",
        "from keras.callbacks import EarlyStopping\n",
        "\n",
        "# Install \n",
        "!pip install bert-tensorflow\n",
        "!pip install sentencepiece"
      ],
      "execution_count": null,
      "outputs": [
        {
          "output_type": "stream",
          "text": [
            "[nltk_data] Downloading package stopwords to /root/nltk_data...\n",
            "[nltk_data]   Unzipping corpora/stopwords.zip.\n",
            "[nltk_data] Downloading package punkt to /root/nltk_data...\n",
            "[nltk_data]   Unzipping tokenizers/punkt.zip.\n",
            "Collecting bert-tensorflow\n",
            "\u001b[?25l  Downloading https://files.pythonhosted.org/packages/20/16/0f9376af49c6adcfbaf2470a8f500105a74dd803aa54ac0110af445837b5/bert_tensorflow-1.0.4-py2.py3-none-any.whl (64kB)\n",
            "\u001b[K     |████████████████████████████████| 71kB 7.2MB/s \n",
            "\u001b[?25hRequirement already satisfied: six in /usr/local/lib/python3.6/dist-packages (from bert-tensorflow) (1.15.0)\n",
            "Installing collected packages: bert-tensorflow\n",
            "Successfully installed bert-tensorflow-1.0.4\n",
            "Collecting sentencepiece\n",
            "\u001b[?25l  Downloading https://files.pythonhosted.org/packages/e5/2d/6d4ca4bef9a67070fa1cac508606328329152b1df10bdf31fb6e4e727894/sentencepiece-0.1.94-cp36-cp36m-manylinux2014_x86_64.whl (1.1MB)\n",
            "\u001b[K     |████████████████████████████████| 1.1MB 11.1MB/s \n",
            "\u001b[?25hInstalling collected packages: sentencepiece\n",
            "Successfully installed sentencepiece-0.1.94\n"
          ],
          "name": "stdout"
        }
      ]
    },
    {
      "cell_type": "markdown",
      "metadata": {
        "id": "GcYVhzG52FvF"
      },
      "source": [
        "# Loading and Formatting Datasets \n",
        "Train and val sets denoted as TRAIN AND VAL and these will be used everywhere. They are kep constant. Val loss will be used for evaluation due to unavailability of test set. "
      ]
    },
    {
      "cell_type": "code",
      "metadata": {
        "id": "6ocOA9Ej2I9n"
      },
      "source": [
        "TRAIN = pd.read_csv(r'/content/SOP-COVID-Tweets-Text-Classification/train1.tsv', sep='\\t')\n",
        "VAL = pd.read_csv(r'/content/SOP-COVID-Tweets-Text-Classification/valid.tsv', sep = '\\t')"
      ],
      "execution_count": null,
      "outputs": []
    },
    {
      "cell_type": "markdown",
      "metadata": {
        "id": "6L3Go8oJqjjL"
      },
      "source": [
        "##### Changing categprical labels "
      ]
    },
    {
      "cell_type": "code",
      "metadata": {
        "id": "31g4tP_K2KwW"
      },
      "source": [
        "def get_label(text):\n",
        "    if text == \"UNINFORMATIVE\":\n",
        "        return 0\n",
        "    elif text == \"INFORMATIVE\":\n",
        "        return 1\n",
        "    else: \n",
        "        return -1\n",
        "\n",
        "TRAIN['Label'] = TRAIN['Label'].apply(get_label)\n",
        "VAL['Label'] = VAL['Label'].apply(get_label)"
      ],
      "execution_count": null,
      "outputs": []
    },
    {
      "cell_type": "code",
      "metadata": {
        "id": "sJseiWaTCHNg"
      },
      "source": [
        "train = TRAIN\n",
        "val = VAL"
      ],
      "execution_count": null,
      "outputs": []
    },
    {
      "cell_type": "markdown",
      "metadata": {
        "id": "p4oDq_-jUV7l"
      },
      "source": [
        "## Utils"
      ]
    },
    {
      "cell_type": "code",
      "metadata": {
        "id": "ZB3R491fUXhh"
      },
      "source": [
        "\"\"\"\n",
        "History and plotting epoch info \n",
        "\"\"\"\n",
        "def plot_curves(history):\n",
        "  print(history.history.keys())\n",
        "\n",
        "  # summarize history for ACCURACY \n",
        "  plt.plot(history.history['accuracy'])\n",
        "  plt.plot(history.history['val_accuracy'])\n",
        "  plt.title('model accuracy')\n",
        "  plt.ylabel('accuracy')\n",
        "  plt.xlabel('epoch')\n",
        "  plt.legend(['train', 'test'], loc='upper left')\n",
        "  plt.show()\n",
        "\n",
        "  # summarize history for LOSS \n",
        "  plt.plot(history.history['loss'])\n",
        "  plt.plot(history.history['val_loss'])\n",
        "  plt.title('model loss')\n",
        "  plt.ylabel('loss')\n",
        "  plt.xlabel('epoch')\n",
        "  plt.legend(['train', 'test'], loc='upper left')\n",
        "  plt.show()"
      ],
      "execution_count": null,
      "outputs": []
    },
    {
      "cell_type": "markdown",
      "metadata": {
        "id": "dmlBwx5Pqryx"
      },
      "source": [
        "## EDA"
      ]
    },
    {
      "cell_type": "markdown",
      "metadata": {
        "id": "AiBGDFmDq5cm"
      },
      "source": [
        "Simple analysis of data. Preprocessing is not required as the data provided did not have random characters or noise. It had already been removed. "
      ]
    },
    {
      "cell_type": "code",
      "metadata": {
        "colab": {
          "base_uri": "https://localhost:8080/",
          "height": 142
        },
        "id": "X1Cz7dqX2bKK",
        "outputId": "9a57fa53-0d29-464b-be82-1d651819694b"
      },
      "source": [
        "\"\"\"\n",
        "Distribution of labels (uninformative and informative)\n",
        "\"\"\"\n",
        "train.groupby('Label').count()"
      ],
      "execution_count": null,
      "outputs": [
        {
          "output_type": "execute_result",
          "data": {
            "text/html": [
              "<div>\n",
              "<style scoped>\n",
              "    .dataframe tbody tr th:only-of-type {\n",
              "        vertical-align: middle;\n",
              "    }\n",
              "\n",
              "    .dataframe tbody tr th {\n",
              "        vertical-align: top;\n",
              "    }\n",
              "\n",
              "    .dataframe thead th {\n",
              "        text-align: right;\n",
              "    }\n",
              "</style>\n",
              "<table border=\"1\" class=\"dataframe\">\n",
              "  <thead>\n",
              "    <tr style=\"text-align: right;\">\n",
              "      <th></th>\n",
              "      <th>Id</th>\n",
              "      <th>Text</th>\n",
              "    </tr>\n",
              "    <tr>\n",
              "      <th>Label</th>\n",
              "      <th></th>\n",
              "      <th></th>\n",
              "    </tr>\n",
              "  </thead>\n",
              "  <tbody>\n",
              "    <tr>\n",
              "      <th>0</th>\n",
              "      <td>3660</td>\n",
              "      <td>3660</td>\n",
              "    </tr>\n",
              "    <tr>\n",
              "      <th>1</th>\n",
              "      <td>3272</td>\n",
              "      <td>3272</td>\n",
              "    </tr>\n",
              "  </tbody>\n",
              "</table>\n",
              "</div>"
            ],
            "text/plain": [
              "         Id  Text\n",
              "Label            \n",
              "0      3660  3660\n",
              "1      3272  3272"
            ]
          },
          "metadata": {
            "tags": []
          },
          "execution_count": 9
        }
      ]
    },
    {
      "cell_type": "code",
      "metadata": {
        "colab": {
          "base_uri": "https://localhost:8080/",
          "height": 370
        },
        "id": "Gww9ENMaTuf6",
        "outputId": "093611d0-1374-4752-fd62-be6bd727ae95"
      },
      "source": [
        "import seaborn as sns\n",
        "sns.countplot(train.Label)\n",
        "plt.xlabel('Label')\n",
        "plt.title('Number of Informative and Uninformative Tweets')"
      ],
      "execution_count": null,
      "outputs": [
        {
          "output_type": "stream",
          "text": [
            "/usr/local/lib/python3.6/dist-packages/seaborn/_decorators.py:43: FutureWarning: Pass the following variable as a keyword arg: x. From version 0.12, the only valid positional argument will be `data`, and passing other arguments without an explicit keyword will result in an error or misinterpretation.\n",
            "  FutureWarning\n"
          ],
          "name": "stderr"
        },
        {
          "output_type": "execute_result",
          "data": {
            "text/plain": [
              "Text(0.5, 1.0, 'Number of Informative and Uninformative Tweets')"
            ]
          },
          "metadata": {
            "tags": []
          },
          "execution_count": 10
        },
        {
          "output_type": "display_data",
          "data": {
            "image/png": "[encoded data removed]",
            "text/plain": [
              "<Figure size 432x288 with 1 Axes>"
            ]
          },
          "metadata": {
            "tags": []
          }
        }
      ]
    },
    {
      "cell_type": "code",
      "metadata": {
        "colab": {
          "base_uri": "https://localhost:8080/",
          "height": 265
        },
        "id": "oyaQ73Vhr1oW",
        "outputId": "e32faec1-090c-4269-9ea8-2463e8e2b958"
      },
      "source": [
        "# checking the distribution of string length of tweets in the data\n",
        "# Train and Val \n",
        "length_train = train['Text'].str.len().plot.hist(color = 'yellow', figsize = (15, 4))\n",
        "length_val = val['Text'].str.len().plot.hist(color = 'blue', figsize = (15, 4))"
      ],
      "execution_count": null,
      "outputs": [
        {
          "output_type": "display_data",
          "data": {
            "image/png": "[encoded data removed]",
            "text/plain": [
              "<Figure size 1080x288 with 1 Axes>"
            ]
          },
          "metadata": {
            "tags": []
          }
        }
      ]
    },
    {
      "cell_type": "markdown",
      "metadata": {
        "id": "0hyGye6ywLNL"
      },
      "source": [
        "#### Most Commonly Occuring Words in the Vocab"
      ]
    },
    {
      "cell_type": "code",
      "metadata": {
        "colab": {
          "base_uri": "https://localhost:8080/",
          "height": 545
        },
        "id": "-m8KxqE0sv0v",
        "outputId": "e50a8026-e145-41b0-b4c2-fff1661c2ddd"
      },
      "source": [
        "def vocab_gen(text):\n",
        "  \"\"\"\n",
        "  text: set of documents \n",
        "  Vocab generation\n",
        "  1. Create an instance of the CountVectorizer class.\n",
        "  2. Call the fit() function in order to learn a vocabulary from one or more documents.\n",
        "  3. Call the transform() function on one or more documents as needed to encode each as a vector.\n",
        "  \"\"\"\n",
        "  cv = CountVectorizer(stop_words = 'english')\n",
        "  words = cv.fit_transform(text)  # encoded vector showing a count for each occurrence for each word \n",
        "  print(f\"Number of words in the vocabulary: \", len(cv.vocabulary_.items())) \n",
        "  return words\n",
        "\n",
        "def word_freq(words):\n",
        "  \"\"\"\n",
        "  word_freq: Returns a sort list of tuple of words and the word count in the set of documents \n",
        "  \"\"\"\n",
        "  sum_words = words.sum(axis=0)\n",
        "  words_freq = [(word, sum_words[0, i]) for word, i in cv.vocabulary_.items()]\n",
        "  words_freq = sorted(words_freq, key = lambda x: x[1], reverse = True)\n",
        "  frequency = pd.DataFrame(words_freq, columns=['word', 'freq'])\n",
        "\n",
        "  return frequency\n",
        "\n",
        "words = vocab_gen(train.Text)\n",
        "frequency = word_freq(words)\n",
        "frequency.head(30).plot(x='word', y='freq', kind='bar', figsize=(15, 7), color = 'blue')\n",
        "plt.title(\"Most Frequently Occuring Words - Top 30\")"
      ],
      "execution_count": null,
      "outputs": [
        {
          "output_type": "stream",
          "text": [
            "Number of words in the vocabulary:  20154\n"
          ],
          "name": "stdout"
        },
        {
          "output_type": "execute_result",
          "data": {
            "text/plain": [
              "Text(0.5, 1.0, 'Most Frequently Occuring Words - Top 30')"
            ]
          },
          "metadata": {
            "tags": []
          },
          "execution_count": 21
        },
        {
          "output_type": "display_data",
          "data": {
            "image/png": "[encoded data removed]",
            "text/plain": [
              "<Figure size 1080x504 with 1 Axes>"
            ]
          },
          "metadata": {
            "tags": []
          }
        }
      ]
    },
    {
      "cell_type": "markdown",
      "metadata": {
        "id": "WSea7Bsowa-Y"
      },
      "source": [
        "#### Hashtag analysis"
      ]
    },
    {
      "cell_type": "code",
      "metadata": {
        "colab": {
          "base_uri": "https://localhost:8080/",
          "height": 1000
        },
        "id": "myekY-djwczc",
        "outputId": "2b24475f-5652-4aee-fc33-67340caa9b5c"
      },
      "source": [
        "\"\"\" \n",
        "Hashtag Extraction without using the Tweet Tokenizer\n",
        "Returns un nested list containing hashtags \n",
        "\"\"\"\n",
        "def hashtag_extract(x):\n",
        "    hashtags = []\n",
        "    \n",
        "    for i in x:\n",
        "        ht = re.findall(r\"#(\\w+)\", i)\n",
        "        hashtags.append(ht)\n",
        "\n",
        "    return sum(hashtags,[])\n",
        "\n",
        "# extracting hashtags from uninformative tweets\n",
        "h_un = hashtag_extract(train['Text'][train['Label'] == 0])\n",
        "\n",
        "# extracting hashtags from informative tweets\n",
        "h_in = hashtag_extract(train['Text'][train['Label'] == 1])\n",
        "\n",
        "def ht_plot(ht_list, num):\n",
        "  freq = nltk.FreqDist(ht_list)\n",
        "  hashtag_df = pd.DataFrame({'Hashtag': list(freq.keys()),\n",
        "                  'Count': list(freq.values())})\n",
        "  \n",
        "  # selecting top n most frequent hashtags     \n",
        "  hashtag_df = hashtag_df.nlargest(columns=\"Count\", n = num) \n",
        "  plt.figure(figsize=(25,8))\n",
        "  ax = sns.barplot(data=hashtag_df, x= \"Hashtag\", y = \"Count\")\n",
        "  ax.set(ylabel = 'Count')\n",
        "  plt.show()\n",
        "    \n",
        "# 10 most common hashtags in uninformative set\n",
        "ht_plot(h_un, 15)\n",
        "ht_plot(h_in, 15)"
      ],
      "execution_count": null,
      "outputs": [
        {
          "output_type": "stream",
          "text": [
            "/usr/local/lib/python3.6/dist-packages/matplotlib/backends/backend_agg.py:214: RuntimeWarning: Glyph 12540 missing from current font.\n",
            "  font.set_text(s, 0.0, flags=flags)\n",
            "/usr/local/lib/python3.6/dist-packages/matplotlib/backends/backend_agg.py:183: RuntimeWarning: Glyph 12540 missing from current font.\n",
            "  font.set_text(s, 0, flags=flags)\n"
          ],
          "name": "stderr"
        },
        {
          "output_type": "display_data",
          "data": {
            "image/png": "[encoded data removed]",
            "text/plain": [
              "<Figure size 1800x576 with 1 Axes>"
            ]
          },
          "metadata": {
            "tags": []
          }
        },
        {
          "output_type": "stream",
          "text": [
            "/usr/local/lib/python3.6/dist-packages/matplotlib/backends/backend_agg.py:214: RuntimeWarning: Glyph 12540 missing from current font.\n",
            "  font.set_text(s, 0.0, flags=flags)\n",
            "/usr/local/lib/python3.6/dist-packages/matplotlib/backends/backend_agg.py:183: RuntimeWarning: Glyph 12540 missing from current font.\n",
            "  font.set_text(s, 0, flags=flags)\n"
          ],
          "name": "stderr"
        },
        {
          "output_type": "display_data",
          "data": {
            "image/png": "[encoded data removed]",
            "text/plain": [
              "<Figure size 1800x576 with 1 Axes>"
            ]
          },
          "metadata": {
            "tags": []
          }
        }
      ]
    },
    {
      "cell_type": "markdown",
      "metadata": {
        "id": "DjhC3x_bz2r0"
      },
      "source": [
        "# Gaussian and Regression"
      ]
    },
    {
      "cell_type": "code",
      "metadata": {
        "id": "jPLoyJtTz_Yc"
      },
      "source": [
        "\"\"\"\"\n",
        "To be added\n",
        "\"\"\"\""
      ],
      "execution_count": null,
      "outputs": []
    },
    {
      "cell_type": "markdown",
      "metadata": {
        "id": "Y4RcBV4Z2rFE"
      },
      "source": [
        "# RNN Model\n"
      ]
    },
    {
      "cell_type": "markdown",
      "metadata": {
        "id": "6eWn9fNG0cjt"
      },
      "source": [
        "Combining train and val due to unavailability of test set. We will be spliting this on our own. "
      ]
    },
    {
      "cell_type": "code",
      "metadata": {
        "id": "F8uax9RW_Squ"
      },
      "source": [
        "trainval = TRAIN.append(VAL, ignore_index= True)\n",
        "# trainval['Text']"
      ],
      "execution_count": null,
      "outputs": []
    },
    {
      "cell_type": "code",
      "metadata": {
        "id": "1CZODIAkAZgQ"
      },
      "source": [
        "\"\"\"\n",
        "Params fot the RNN model \n",
        "\"\"\"\n",
        "max_words = 22000 # generally vocab of the set \n",
        "max_len = 80 # max num words in a tweet \n",
        "\n",
        "\"\"\"\n",
        "Encode the data \n",
        "\"\"\"\n",
        "def encode_text(trainval, setlower = False):\n",
        "  le = LabelEncoder()\n",
        "  # Try using lowercase only once \n",
        "  if setlower: X = trainval.Text.str.lower() \n",
        "  else: X = trainval.Text\n",
        "  Y = trainval.Label\n",
        "  Y = le.fit_transform(Y)\n",
        "  Y = Y.reshape(-1,1)\n",
        "  return X, Y\n",
        "\n",
        "\"\"\"\n",
        "Tokenizing input \n",
        "\"\"\"\n",
        "def tokenize_this(X, mlen = 80):\n",
        "  tok = Tokenizer() # using keras tokenizer here\n",
        "  k = tok.fit_on_texts(X)   \n",
        "  sequences = tok.texts_to_sequences(X) \n",
        "  sequences_matrix = sequence.pad_sequences(sequences,maxlen=mlen) # padded, tokenized input sequences \n",
        "\n",
        "  return sequences, sequences_matrix\n",
        "\n",
        "  \"\"\"\n",
        "RNN with LSTM Model definition\n",
        "\"\"\"\n",
        "def RNN():\n",
        "    inputs = Input(name='inputs',shape=[max_len]) # here shape taken as max no. of words in a tweet \n",
        "    layer = Embedding(25000,50,input_length=max_len)(inputs) # input dim = max words, output dim = 50, input len = max_len \n",
        "    layer = LSTM(64)(layer)\n",
        "    layer = Dropout(0.8)(layer)\n",
        "    layer = Dense(256,name='FC1')(layer)\n",
        "    layer = Activation('relu')(layer)\n",
        "    layer = Dropout(0.8)(layer)\n",
        "    layer = Dense(1,name='out_layer')(layer) # output layer \n",
        "    layer = Activation('sigmoid')(layer)\n",
        "    model = Model(inputs=inputs,outputs=layer)\n",
        "    return model\n",
        "\n",
        "\"\"\"\n",
        "Training the model\n",
        "\"\"\"\n",
        "# create, compile and fit the model\n",
        "def train_RNN_model(sequences_matrix, Y, loss='binary_crossentropy', op = 'adam', \n",
        "                    epochs = 10, validation_split = 0.2, shuffle = True, batch_size = 128):\n",
        "  model = RNN()\n",
        "  model.compile(loss=loss , optimizer= op, metrics=['accuracy'])\n",
        "  history = model.fit(sequences_matrix , Y, batch_size=batch_size ,epochs=epochs ,validation_split=0.2, \n",
        "                      shuffle = shuffle , callbacks=[EarlyStopping(monitor='val_loss',min_delta=0.0001)])\n",
        "  return history "
      ],
      "execution_count": null,
      "outputs": []
    },
    {
      "cell_type": "code",
      "metadata": {
        "colab": {
          "base_uri": "https://localhost:8080/",
          "height": 720
        },
        "id": "zAQuZmpO8RLt",
        "outputId": "5aed6c80-58f6-47c3-e137-959d944f21f2"
      },
      "source": [
        "\"\"\"\n",
        "Function\n",
        "\"\"\"\n",
        "X, Y = encode_text(trainval, setlower= True)\n",
        "_, sequences_mat = tokenize_this(X, max_len)\n",
        "history = train_RNN_model(sequences_mat, Y, batch_size = 64)\n",
        "plot_curves(history)"
      ],
      "execution_count": null,
      "outputs": [
        {
          "output_type": "stream",
          "text": [
            "Epoch 1/10\n",
            "100/100 [==============================] - 2s 23ms/step - loss: 0.6808 - accuracy: 0.5600 - val_loss: 0.5308 - val_accuracy: 0.7215\n",
            "Epoch 2/10\n",
            "100/100 [==============================] - 2s 19ms/step - loss: 0.4144 - accuracy: 0.8326 - val_loss: 0.3881 - val_accuracy: 0.8305\n",
            "Epoch 3/10\n",
            "100/100 [==============================] - 2s 19ms/step - loss: 0.1680 - accuracy: 0.9442 - val_loss: 0.6230 - val_accuracy: 0.8248\n",
            "dict_keys(['loss', 'accuracy', 'val_loss', 'val_accuracy'])\n"
          ],
          "name": "stdout"
        },
        {
          "output_type": "display_data",
          "data": {
            "image/png": "[encoded data removed]",
            "text/plain": [
              "<Figure size 432x288 with 1 Axes>"
            ]
          },
          "metadata": {
            "tags": []
          }
        },
        {
          "output_type": "display_data",
          "data": {
            "image/png": "[encoded data removed]",
            "text/plain": [
              "<Figure size 432x288 with 1 Axes>"
            ]
          },
          "metadata": {
            "tags": []
          }
        }
      ]
    },
    {
      "cell_type": "code",
      "metadata": {
        "colab": {
          "base_uri": "https://localhost:8080/",
          "height": 137
        },
        "id": "QAg1oo1A6yEq",
        "outputId": "067a3f27-1ce9-470f-accb-096b1bfd2bb2"
      },
      "source": [
        "\"\"\"\n",
        "Epochs 3-4 as we have used callback \n",
        "\n",
        "batch_size 128\n",
        "accuracy: 0.9738 - val_loss: 0.5563 - val_accuracy: 0.8204\n",
        "accuracy: 0.9032 - val_loss: 0.5225 - val_accuracy: 0.8185\n",
        "accuracy: 0.9644 - val_loss: 0.4824 - val_accuracy: 0.8179\n",
        "\n",
        "batch size 64\n",
        "accuracy: 0.9433 - val_loss: 0.4900 - val_accuracy: 0.8299\n",
        "accuracy: 0.9281 - val_loss: 0.4096 - val_accuracy: 0.8431\n",
        "accuracy: 0.9343 - val_loss: 0.4404 - val_accuracy: 0.8009\n",
        "accuracy: 0.9401 - val_loss: 0.4479 - val_accuracy: 0.8141\n",
        "accuracy: 0.9398 - val_loss: 0.4951 - val_accuracy: 0.8336\n",
        "with set lower\n",
        "accuracy: 0.9169 - val_loss: 0.4111 - val_accuracy: 0.8311\n",
        "\n",
        "batch size 16\n",
        "accuracy: 0.9604 - val_loss: 0.4843 - val_accuracy: 0.8173\n",
        "accuracy: 0.9546 - val_loss: 0.4881 - val_accuracy: 0.8160\n",
        "\"\"\"\n",
        "\n",
        "# Strangely enough pre and post padding makes a huge difference, why? "
      ],
      "execution_count": null,
      "outputs": [
        {
          "output_type": "execute_result",
          "data": {
            "application/vnd.google.colaboratory.intrinsic+json": {
              "type": "string"
            },
            "text/plain": [
              "'\\nEpochs 3-4 as we have used callback \\n\\nbatch_size 128\\naccuracy: 0.9738 - val_loss: 0.5563 - val_accuracy: 0.8204\\naccuracy: 0.9032 - val_loss: 0.5225 - val_accuracy: 0.8185\\naccuracy: 0.9644 - val_loss: 0.4824 - val_accuracy: 0.8179\\n\\nbatch size 64\\naccuracy: 0.9433 - val_loss: 0.4900 - val_accuracy: 0.8299\\naccuracy: 0.9281 - val_loss: 0.4096 - val_accuracy: 0.8431\\naccuracy: 0.9343 - val_loss: 0.4404 - val_accuracy: 0.8009\\naccuracy: 0.9401 - val_loss: 0.4479 - val_accuracy: 0.8141\\naccuracy: 0.9398 - val_loss: 0.4951 - val_accuracy: 0.8336\\nwith set lower\\naccuracy: 0.9169 - val_loss: 0.4111 - val_accuracy: 0.8311\\n\\nbatch size 16\\naccuracy: 0.9604 - val_loss: 0.4843 - val_accuracy: 0.8173\\naccuracy: 0.9546 - val_loss: 0.4881 - val_accuracy: 0.8160\\n'"
            ]
          },
          "metadata": {
            "tags": []
          },
          "execution_count": 159
        }
      ]
    },
    {
      "cell_type": "markdown",
      "metadata": {
        "id": "Snq91IkXq8qp"
      },
      "source": [
        "# Glove embeddings "
      ]
    },
    {
      "cell_type": "markdown",
      "metadata": {
        "id": "_WOQ-wYx-xja"
      },
      "source": [
        "### Download pre trained embeddings"
      ]
    },
    {
      "cell_type": "code",
      "metadata": {
        "colab": {
          "base_uri": "https://localhost:8080/"
        },
        "id": "y1wS2aWL-SyV",
        "outputId": "25c2f372-0fa4-4867-ca0e-add34bd833be"
      },
      "source": [
        "\"\"\"\n",
        "Caution: This cell may take 4-5 minutes to run \n",
        "Use in case glove embeddings not available on the drive\n",
        "\"\"\"\n",
        "file_name = \"glove.6B.zip\"\n",
        "# file_name = \"glove.twitter.27B.zip\"\n",
        "!wget http://nlp.stanford.edu/data/{file_name}"
      ],
      "execution_count": null,
      "outputs": [
        {
          "output_type": "stream",
          "text": [
            "--2020-12-01 10:03:25--  http://nlp.stanford.edu/data/glove.6B.zip\n",
            "Resolving nlp.stanford.edu (nlp.stanford.edu)... 171.64.67.140\n",
            "Connecting to nlp.stanford.edu (nlp.stanford.edu)|171.64.67.140|:80... connected.\n",
            "HTTP request sent, awaiting response... 302 Found\n",
            "Location: https://nlp.stanford.edu/data/glove.6B.zip [following]\n",
            "--2020-12-01 10:03:26--  https://nlp.stanford.edu/data/glove.6B.zip\n",
            "Connecting to nlp.stanford.edu (nlp.stanford.edu)|171.64.67.140|:443... connected.\n",
            "HTTP request sent, awaiting response... 301 Moved Permanently\n",
            "Location: http://downloads.cs.stanford.edu/nlp/data/glove.6B.zip [following]\n",
            "--2020-12-01 10:03:26--  http://downloads.cs.stanford.edu/nlp/data/glove.6B.zip\n",
            "Resolving downloads.cs.stanford.edu (downloads.cs.stanford.edu)... 171.64.64.22\n",
            "Connecting to downloads.cs.stanford.edu (downloads.cs.stanford.edu)|171.64.64.22|:80... connected.\n",
            "HTTP request sent, awaiting response... 200 OK\n",
            "Length: 862182613 (822M) [application/zip]\n",
            "Saving to: ‘glove.6B.zip’\n",
            "\n",
            "glove.6B.zip        100%[===================>] 822.24M  2.08MB/s    in 6m 29s  \n",
            "\n",
            "2020-12-01 10:09:55 (2.11 MB/s) - ‘glove.6B.zip’ saved [862182613/862182613]\n",
            "\n"
          ],
          "name": "stdout"
        }
      ]
    },
    {
      "cell_type": "code",
      "metadata": {
        "colab": {
          "base_uri": "https://localhost:8080/"
        },
        "id": "c8MT2H0g-VIJ",
        "outputId": "d6992465-fd2e-4ced-fbd6-8e881efcf4ba"
      },
      "source": [
        "!unzip glove.6B.zip"
      ],
      "execution_count": null,
      "outputs": [
        {
          "output_type": "stream",
          "text": [
            "Archive:  glove.6B.zip\n",
            "  inflating: glove.6B.50d.txt        \n",
            "  inflating: glove.6B.100d.txt       \n",
            "  inflating: glove.6B.200d.txt       \n",
            "  inflating: glove.6B.300d.txt       \n"
          ],
          "name": "stdout"
        }
      ]
    },
    {
      "cell_type": "code",
      "metadata": {
        "colab": {
          "base_uri": "https://localhost:8080/"
        },
        "id": "wDrya0J2B8NH",
        "outputId": "e1ee27de-c91b-46f8-8506-a1a851f7a4d5"
      },
      "source": [
        "!ls\n",
        "!pwd"
      ],
      "execution_count": null,
      "outputs": [
        {
          "output_type": "stream",
          "text": [
            "About_The_Data.ipynb\t    glove.twitter.27B.50d.txt\n",
            "COVID19Tweet-master.zip     glove.twitter.27B.zip\n",
            "glove.6B.100d.txt\t    NaiveBayesLR.ipynb\n",
            "glove.6B.200d.txt\t    Preprocessing.ipynb\n",
            "glove.6B.300d.txt\t    README.md\n",
            "glove.6B.50d.txt\t    RNN_Model.ipynb\n",
            "glove.6B.zip\t\t    train1.tsv\n",
            "glove.twitter.27B.100d.txt  train.tsv\n",
            "glove.twitter.27B.200d.txt  unlabeled_test_with_noise.tsv\n",
            "glove.twitter.27B.25d.txt   valid.tsv\n",
            "/content/SOP-COVID-Tweets-Text-Classification\n"
          ],
          "name": "stdout"
        }
      ]
    },
    {
      "cell_type": "markdown",
      "metadata": {
        "id": "HIXAJqDE-cCE"
      },
      "source": [
        "### Import Embedding Files from Google drive"
      ]
    },
    {
      "cell_type": "code",
      "metadata": {
        "colab": {
          "base_uri": "https://localhost:8080/"
        },
        "id": "iIjajd2BpSaJ",
        "outputId": "bc2cfbee-2e50-47c9-99e1-59a0f8106e73"
      },
      "source": [
        "# Get embedding info from drive \n",
        "from google.colab import drive\n",
        "drive.mount('/content/gdrive')"
      ],
      "execution_count": null,
      "outputs": [
        {
          "output_type": "stream",
          "text": [
            "Mounted at /content/gdrive\n"
          ],
          "name": "stdout"
        }
      ]
    },
    {
      "cell_type": "code",
      "metadata": {
        "colab": {
          "base_uri": "https://localhost:8080/"
        },
        "id": "mtfgVc2npbh6",
        "outputId": "71952025-c4a9-42cd-8993-90059a6c156e"
      },
      "source": [
        "!unzip \"/content/gdrive/My Drive/1_SOP_NLP/glove.6B.zip\""
      ],
      "execution_count": null,
      "outputs": [
        {
          "output_type": "stream",
          "text": [
            "Archive:  /content/gdrive/My Drive/1_SOP_NLP/glove.6B.zip\n",
            "  inflating: glove.6B.100d.txt       \n",
            "  inflating: glove.6B.200d.txt       \n",
            "  inflating: glove.6B.300d.txt       \n",
            "  inflating: glove.6B.50d.txt        \n"
          ],
          "name": "stdout"
        }
      ]
    },
    {
      "cell_type": "code",
      "metadata": {
        "colab": {
          "base_uri": "https://localhost:8080/"
        },
        "id": "MK2lAZS8m8Ok",
        "outputId": "56ec77f7-ac48-4595-ed2b-3cf586561120"
      },
      "source": [
        "!unzip \"/content/gdrive/My Drive/1_SOP_NLP/glove.twitter.27B.zip\""
      ],
      "execution_count": null,
      "outputs": [
        {
          "output_type": "stream",
          "text": [
            "Archive:  /content/gdrive/My Drive/1_SOP_NLP/glove.twitter.27B.zip\n",
            "  inflating: glove.twitter.27B.100d.txt  \n",
            "  inflating: glove.twitter.27B.200d.txt  \n",
            "  inflating: glove.twitter.27B.25d.txt  \n",
            "  inflating: glove.twitter.27B.50d.txt  \n"
          ],
          "name": "stdout"
        }
      ]
    },
    {
      "cell_type": "markdown",
      "metadata": {
        "id": "Ur68ecCL-ixf"
      },
      "source": [
        "### Model Functions and Training "
      ]
    },
    {
      "cell_type": "code",
      "metadata": {
        "id": "3TcXJCHHUHWf"
      },
      "source": [
        "\"\"\"\n",
        "Model params \n",
        "\"\"\"\n",
        "MAX_LEN=80  # put in utils?\n",
        "embedding_dims = 300  # specify the dimensions of embedding vector \n",
        "\n",
        "\"\"\"\n",
        "Create corpus, all words in the vocabulary\n",
        "\"\"\"\n",
        "def create_corpus_new(df):\n",
        "    corpus=[]\n",
        "    for tweet in tqdm(df['Text']):\n",
        "        words=[word.lower() for word in word_tokenize(tweet)] # using nltk's word tokenizer\n",
        "        # words=[word.lower() for word in TweetTokenizer(tweet)]\n",
        "        corpus.append(words)\n",
        "    return corpus \n",
        "\n",
        "\"\"\"\n",
        "Create an embedding dictionary using GloVe vectors \n",
        "word and corresponding vector \n",
        "\"\"\"\n",
        "def get_embeddings_dict(filename):\n",
        "  embedding_dict={}\n",
        "  with open(filename,'r', encoding='utf8') as f:\n",
        "    for line in f:\n",
        "      values=line.split()\n",
        "      word = values[0]\n",
        "      vectors=np.asarray(values[1:],'float32')\n",
        "      embedding_dict[word]=vectors\n",
        "  f.close()\n",
        "  return embedding_dict\n",
        "\n",
        "# '/content/SOP-COVID-Tweets-Text-Classification/glove.6B.100d.txt\n",
        "# '/content/SOP-COVID-Tweets-Text-Classification/glove.twitter.27B.100d.txt\n",
        "\n",
        "\n",
        "\"\"\"\n",
        "Tokenizer\n",
        "\"\"\"\n",
        "# seq, _ = tokenize_this(X, MAX_LEN) try using the prev function find difference \n",
        "\n",
        "def tokenize_and_pad(corpus):\n",
        "  tokenizer_obj = Tokenizer()\n",
        "  tokenizer_obj.fit_on_texts(corpus)\n",
        "  sequences=tokenizer_obj.texts_to_sequences(corpus)\n",
        "  padded_tweets = pad_sequences(sequences,maxlen=MAX_LEN,truncating='post',padding='post') # padded tweets \n",
        "  word_dict = tokenizer_obj.word_index # word index is the mapping words to integer, will be a dictionary \n",
        "  return padded_tweets, word_dict\n",
        "\n",
        "\"\"\"\n",
        "Embedding Matrix\n",
        "\"\"\"\n",
        "def get_embedding_matrix(word_dict, embedding_dict, embedding_dims=100):\n",
        "  num_words=len(word_dict)+1 # words in vocab \n",
        "  embedding_matrix=np.zeros((num_words,embedding_dims))  # padded embedding matrix 100 because 100 dimensional embeddings \n",
        "  for word,i in tqdm(word_dict.items()):\n",
        "    if i < num_words: # boundary condition, not necessary \n",
        "      emb_vec=embedding_dict.get(word)  # create embedding vector \n",
        "      if emb_vec is not None:\n",
        "        embedding_matrix[i]=emb_vec           \n",
        "\n",
        "  return num_words, embedding_matrix\n",
        "\n",
        "\"\"\"\n",
        "Generate Train and Test sets \n",
        "\"\"\"\n",
        "def train_inputs(tweet_pad, val_split_ratio = 0.2):\n",
        "  train_set = tweet_pad[:train.shape[0]] # (7932, 80)\n",
        "  X_train, X_test, y_train, y_test = train_test_split(train_set ,\n",
        "                                                      train['Label'].values,\n",
        "                                                      test_size=val_split_ratio)\n",
        "  return X_train, X_test, y_train, y_test\n"
      ],
      "execution_count": null,
      "outputs": []
    },
    {
      "cell_type": "code",
      "metadata": {
        "id": "pYAfNR9TR1x0"
      },
      "source": [
        "def glove_model(embedding_matrix, mlen):\n",
        "  model=Sequential()\n",
        "  embedding=Embedding(embedding_matrix.shape[0], embedding_matrix.shape[1], \n",
        "                      embeddings_initializer=Constant(embedding_matrix),\n",
        "                    input_length=mlen,trainable=False)\n",
        "  model.add(embedding)\n",
        "  model.add(LSTM(64, dropout=0.2, recurrent_dropout=0.2))\n",
        "  model.add(Dense(256, activation='relu'))\n",
        "  model.add(Dropout(0.5))\n",
        "  model.add(Dense(128, activation='relu'))\n",
        "  model.add(Dropout(0.5))\n",
        "  model.add(Dense(1, activation='sigmoid'))\n",
        "  return model\n",
        "\n",
        "def train_model_glove(X_train, y_train, X_test, y_test, embedding_matrix, \n",
        "                      mlen = 80, batch_size=64, epochs=5):\n",
        "  model = glove_model(embedding_matrix, mlen)\n",
        "  optimzer=Adam(learning_rate=3e-4)\n",
        "  model.compile(loss='binary_crossentropy',optimizer=optimzer,metrics=['accuracy'])\n",
        "  history=model.fit(X_train,y_train,batch_size=batch_size,epochs=epochs,\n",
        "                    validation_data=(X_test,y_test),verbose=2) \n",
        "  return history"
      ],
      "execution_count": null,
      "outputs": []
    },
    {
      "cell_type": "code",
      "metadata": {
        "colab": {
          "base_uri": "https://localhost:8080/"
        },
        "id": "jXf2a6w6Ueba",
        "outputId": "138edec5-6aef-4445-8d0b-04ff64e8723d"
      },
      "source": [
        "\"\"\"\n",
        "Functions \n",
        "\"\"\" \n",
        "train = TRAIN.append(VAL, ignore_index= True)\n",
        "corpus=create_corpus_new(train)\n",
        "embedding_dict = get_embeddings_dict(f'glove.6B.{embedding_dims}d.txt') # give embedding file name \n",
        "tweet_pad, word_index = tokenize_and_pad(corpus)\n",
        "num_words, embedding_matrix = get_embedding_matrix(word_index, embedding_dict, embedding_dims)\n",
        "X_train, X_test, y_train, y_test = train_inputs(tweet_pad)\n",
        "\n",
        "# seq, tp = tokenize_this(corpus, MAX_LEN)"
      ],
      "execution_count": null,
      "outputs": [
        {
          "output_type": "stream",
          "text": [
            "100%|██████████| 7932/7932 [00:02<00:00, 2917.34it/s]\n",
            "100%|██████████| 26333/26333 [00:00<00:00, 483435.64it/s]\n"
          ],
          "name": "stderr"
        }
      ]
    },
    {
      "cell_type": "code",
      "metadata": {
        "colab": {
          "base_uri": "https://localhost:8080/",
          "height": 1000
        },
        "id": "iBAtid_QWmXF",
        "outputId": "dc93bf79-47b8-457a-8a0a-b6406655d0c1"
      },
      "source": [
        "\"\"\"\n",
        "Model creation and training \n",
        "\"\"\"\n",
        "model = glove_model(embedding_matrix, MAX_LEN)\n",
        "model.summary()\n",
        "history = train_model_glove(X_train, y_train, X_test, y_test, embedding_matrix, MAX_LEN, epochs =20)\n",
        "plot_curves(history)"
      ],
      "execution_count": null,
      "outputs": [
        {
          "output_type": "stream",
          "text": [
            "WARNING:tensorflow:Layer lstm_12 will not use cuDNN kernel since it doesn't meet the cuDNN kernel criteria. It will use generic GPU kernel as fallback when running on GPU\n"
          ],
          "name": "stdout"
        },
        {
          "output_type": "stream",
          "text": [
            "WARNING:tensorflow:Layer lstm_12 will not use cuDNN kernel since it doesn't meet the cuDNN kernel criteria. It will use generic GPU kernel as fallback when running on GPU\n"
          ],
          "name": "stderr"
        },
        {
          "output_type": "stream",
          "text": [
            "Model: \"sequential_13\"\n",
            "_________________________________________________________________\n",
            "Layer (type)                 Output Shape              Param #   \n",
            "=================================================================\n",
            "embedding_12 (Embedding)     (None, 80, 300)           7900200   \n",
            "_________________________________________________________________\n",
            "lstm_12 (LSTM)               (None, 64)                93440     \n",
            "_________________________________________________________________\n",
            "dense_28 (Dense)             (None, 256)               16640     \n",
            "_________________________________________________________________\n",
            "dropout_14 (Dropout)         (None, 256)               0         \n",
            "_________________________________________________________________\n",
            "dense_29 (Dense)             (None, 128)               32896     \n",
            "_________________________________________________________________\n",
            "dropout_15 (Dropout)         (None, 128)               0         \n",
            "_________________________________________________________________\n",
            "dense_30 (Dense)             (None, 1)                 129       \n",
            "=================================================================\n",
            "Total params: 8,043,305\n",
            "Trainable params: 143,105\n",
            "Non-trainable params: 7,900,200\n",
            "_________________________________________________________________\n",
            "WARNING:tensorflow:Layer lstm_13 will not use cuDNN kernel since it doesn't meet the cuDNN kernel criteria. It will use generic GPU kernel as fallback when running on GPU\n"
          ],
          "name": "stdout"
        },
        {
          "output_type": "stream",
          "text": [
            "WARNING:tensorflow:Layer lstm_13 will not use cuDNN kernel since it doesn't meet the cuDNN kernel criteria. It will use generic GPU kernel as fallback when running on GPU\n"
          ],
          "name": "stderr"
        },
        {
          "output_type": "stream",
          "text": [
            "Epoch 1/20\n",
            "100/100 - 26s - loss: 0.6923 - accuracy: 0.5232 - val_loss: 0.6861 - val_accuracy: 0.5432\n",
            "Epoch 2/20\n",
            "100/100 - 26s - loss: 0.6168 - accuracy: 0.6530 - val_loss: 0.5496 - val_accuracy: 0.7429\n",
            "Epoch 3/20\n",
            "100/100 - 27s - loss: 0.5007 - accuracy: 0.7912 - val_loss: 0.4939 - val_accuracy: 0.7902\n",
            "Epoch 4/20\n",
            "100/100 - 26s - loss: 0.4386 - accuracy: 0.8255 - val_loss: 0.4491 - val_accuracy: 0.8122\n",
            "Epoch 5/20\n",
            "100/100 - 26s - loss: 0.4095 - accuracy: 0.8372 - val_loss: 0.4450 - val_accuracy: 0.8236\n",
            "Epoch 6/20\n",
            "100/100 - 26s - loss: 0.3777 - accuracy: 0.8485 - val_loss: 0.4306 - val_accuracy: 0.8362\n",
            "Epoch 7/20\n",
            "100/100 - 27s - loss: 0.3600 - accuracy: 0.8588 - val_loss: 0.3774 - val_accuracy: 0.8349\n",
            "Epoch 8/20\n",
            "100/100 - 26s - loss: 0.3300 - accuracy: 0.8676 - val_loss: 0.4276 - val_accuracy: 0.8330\n",
            "Epoch 9/20\n",
            "100/100 - 26s - loss: 0.3317 - accuracy: 0.8679 - val_loss: 0.3792 - val_accuracy: 0.8488\n",
            "Epoch 10/20\n",
            "100/100 - 26s - loss: 0.3204 - accuracy: 0.8725 - val_loss: 0.3411 - val_accuracy: 0.8582\n",
            "Epoch 11/20\n",
            "100/100 - 27s - loss: 0.2959 - accuracy: 0.8807 - val_loss: 0.3600 - val_accuracy: 0.8519\n",
            "Epoch 12/20\n",
            "100/100 - 27s - loss: 0.2817 - accuracy: 0.8864 - val_loss: 0.3379 - val_accuracy: 0.8595\n",
            "Epoch 13/20\n",
            "100/100 - 26s - loss: 0.2734 - accuracy: 0.8927 - val_loss: 0.3295 - val_accuracy: 0.8595\n",
            "Epoch 14/20\n",
            "100/100 - 26s - loss: 0.2581 - accuracy: 0.8993 - val_loss: 0.3240 - val_accuracy: 0.8639\n",
            "Epoch 15/20\n",
            "100/100 - 26s - loss: 0.2594 - accuracy: 0.9010 - val_loss: 0.3088 - val_accuracy: 0.8702\n",
            "Epoch 16/20\n",
            "100/100 - 27s - loss: 0.2484 - accuracy: 0.9059 - val_loss: 0.3313 - val_accuracy: 0.8702\n",
            "Epoch 17/20\n",
            "100/100 - 26s - loss: 0.2343 - accuracy: 0.9031 - val_loss: 0.3142 - val_accuracy: 0.8740\n",
            "Epoch 18/20\n",
            "100/100 - 27s - loss: 0.2215 - accuracy: 0.9097 - val_loss: 0.3585 - val_accuracy: 0.8626\n",
            "Epoch 19/20\n",
            "100/100 - 27s - loss: 0.2119 - accuracy: 0.9190 - val_loss: 0.3449 - val_accuracy: 0.8715\n",
            "Epoch 20/20\n",
            "100/100 - 26s - loss: 0.2126 - accuracy: 0.9151 - val_loss: 0.3301 - val_accuracy: 0.8790\n",
            "dict_keys(['loss', 'accuracy', 'val_loss', 'val_accuracy'])\n"
          ],
          "name": "stdout"
        },
        {
          "output_type": "display_data",
          "data": {
            "image/png": "[encoded data removed]",
            "text/plain": [
              "<Figure size 432x288 with 1 Axes>"
            ]
          },
          "metadata": {
            "tags": []
          }
        },
        {
          "output_type": "display_data",
          "data": {
            "image/png": "[encoded data removed]",
            "text/plain": [
              "<Figure size 432x288 with 1 Axes>"
            ]
          },
          "metadata": {
            "tags": []
          }
        }
      ]
    },
    {
      "cell_type": "code",
      "metadata": {
        "id": "gdE1so2koH9p"
      },
      "source": [
        "# 100 dim 20 epochs loss: 0.3244 - accuracy: 0.8569 - val_loss: 0.3965 - val_accuracy: 0.8343\n",
        "# 200 dim 20 epochs loss: 0.2675 - accuracy: 0.8851 - val_loss: 0.3474 - val_accuracy: 0.8355\n",
        "\n",
        "Non\n",
        "# 300 dim 20 epoch loss: 0.1934 - accuracy: 0.9162 - val_loss: 0.3347 - val_accuracy: 0.8834\n",
        "# 300 dim 20 epoch loss: 0.1915 - accuracy: 0.9221 - val_loss: 0.3163 - val_accuracy: 0.8841\n"
      ],
      "execution_count": null,
      "outputs": []
    },
    {
      "cell_type": "markdown",
      "metadata": {
        "id": "D01s9lehfYuI"
      },
      "source": [
        "# BERT\n"
      ]
    },
    {
      "cell_type": "code",
      "metadata": {
        "colab": {
          "base_uri": "https://localhost:8080/",
          "height": 137
        },
        "id": "WNQtfOHsfaUx",
        "outputId": "29735c9b-795f-45fd-e024-984af89318cf"
      },
      "source": [
        "!pip install bert-tensorflow\n",
        "!pip install sentencepiece\n",
        "\"\"\"\n",
        "SentencePiece is an unsupervised text tokenizer and detokenizer mainly for Neural Network-based text generation systems\n",
        "\"\"\""
      ],
      "execution_count": null,
      "outputs": [
        {
          "output_type": "stream",
          "text": [
            "Requirement already satisfied: bert-tensorflow in /usr/local/lib/python3.6/dist-packages (1.0.4)\n",
            "Requirement already satisfied: six in /usr/local/lib/python3.6/dist-packages (from bert-tensorflow) (1.15.0)\n",
            "Requirement already satisfied: sentencepiece in /usr/local/lib/python3.6/dist-packages (0.1.94)\n"
          ],
          "name": "stdout"
        },
        {
          "output_type": "execute_result",
          "data": {
            "application/vnd.google.colaboratory.intrinsic+json": {
              "type": "string"
            },
            "text/plain": [
              "'\\nSentencePiece is an unsupervised text tokenizer and detokenizer mainly for Neural Network-based text generation systems\\nwhere the vocabulary size is predetermined prior to the neural model training. SentencePiece implements subword units\\n(e.g., byte-pair-encoding (BPE) [Sennrich et al.]) and unigram language model [Kudo.]) with the extension of direct \\ntraining from raw sentences. SentencePiece allows us to make a purely end-to-end system that does not depend on \\nlanguage-specific pre/postprocessing.\\n'"
            ]
          },
          "metadata": {
            "tags": []
          },
          "execution_count": 28
        }
      ]
    },
    {
      "cell_type": "code",
      "metadata": {
        "id": "40gGT1oLgmGP"
      },
      "source": [
        "# Bert's own tokenizer\n",
        "!wget --quiet https://raw.githubusercontent.com/tensorflow/models/master/official/nlp/bert/tokenization.py\n",
        "# imported from sentencepiece \n",
        "import tokenization "
      ],
      "execution_count": null,
      "outputs": []
    },
    {
      "cell_type": "markdown",
      "metadata": {
        "id": "4KiQ7hLE5_Ua"
      },
      "source": [
        "#### BERT Implementation"
      ]
    },
    {
      "cell_type": "code",
      "metadata": {
        "id": "ExmXqyL3hRWJ"
      },
      "source": [
        "\"\"\"\n",
        "Encode train text with tokenizer\n",
        "Returns token, mask and segment arrays \n",
        "\"\"\"\n",
        "def bert_encode(texts, tokenizer, max_len=512):\n",
        "    all_tokens = []\n",
        "    all_masks = []\n",
        "    all_segments = []\n",
        "    \n",
        "    for text in texts:\n",
        "        text = tokenizer.tokenize(text)\n",
        "            \n",
        "        text = text[:max_len-2] \n",
        "        input_sequence = [\"[CLS]\"] + text + [\"[SEP]\"] # special tokens added \n",
        "        pad_len = max_len - len(input_sequence) # padding \n",
        "        \n",
        "        tokens = tokenizer.convert_tokens_to_ids(input_sequence)\n",
        "        tokens += [0] * pad_len # pad with zeroes \n",
        "        pad_masks = [1] * len(input_sequence) + [0] * pad_len\n",
        "        segment_ids = [0] * max_len\n",
        "        all_tokens.append(tokens)\n",
        "        all_masks.append(pad_masks)\n",
        "        all_segments.append(segment_ids)\n",
        "    \n",
        "    return np.array(all_tokens), np.array(all_masks), np.array(all_segments)\n",
        "\n",
        "\"\"\"\n",
        "Build BERT model \n",
        "Dropout addition optional\n",
        "Builds and Compiles model \n",
        "\"\"\"\n",
        "def build_model(bert_layer, max_len=512):\n",
        "    input_word_ids = Input(shape=(max_len,), dtype=tf.int32, name=\"input_word_ids\")\n",
        "    input_mask = Input(shape=(max_len,), dtype=tf.int32, name=\"input_mask\")\n",
        "    input_type_ids  = Input(shape=(max_len,), dtype=tf.int32, name=\"input_type_ids \")\n",
        "\n",
        "    pooled_output, sequence_output = bert_layer([input_word_ids, input_mask, input_type_ids ])\n",
        "    clf_output = sequence_output[:, 0, :]\n",
        "    \n",
        "    if Dropout_num == 0:\n",
        "        # Without Dropout\n",
        "        out = Dense(1, activation='sigmoid')(clf_output)\n",
        "    else:\n",
        "        # With Dropout\n",
        "        x = Dropout(Dropout_num)(clf_output)\n",
        "        out = Dense(1, activation='sigmoid')(x)\n",
        "\n",
        "    model = Model(inputs=[input_word_ids, input_mask, input_type_ids ], outputs=out)\n",
        "    model.compile(Adam(lr=learning_rate), loss='binary_crossentropy', metrics=['accuracy'])\n",
        "    \n",
        "    return model"
      ],
      "execution_count": null,
      "outputs": []
    },
    {
      "cell_type": "code",
      "metadata": {
        "id": "UnGVHlL3iBlR"
      },
      "source": [
        "\"\"\" \n",
        "BERT Large uncased model \n",
        "\"\"\"\n",
        "# module_url = \"https://tfhub.dev/tensorflow/bert_en_uncased_L-24_H-1024_A-16/1\"\n",
        "# bert_layer = hub.KerasLayer(module_url, trainable=True)\n",
        "\"\"\"\n",
        "Covid 19 twitter bert \n",
        "\"\"\"\n",
        "module_url = \"https://tfhub.dev/digitalepidemiologylab/covid-twitter-bert/2\"\n",
        "bert_layer = hub.KerasLayer(module_url, trainable=True)"
      ],
      "execution_count": null,
      "outputs": []
    },
    {
      "cell_type": "code",
      "metadata": {
        "id": "FFMIXgUeh0VZ"
      },
      "source": [
        "trainval = TRAIN.append(VAL, ignore_index= True)\n",
        "train = trainval[:7000]\n",
        "test = trainval[7000:]"
      ],
      "execution_count": null,
      "outputs": []
    },
    {
      "cell_type": "code",
      "metadata": {
        "id": "TEF1FdZThv0H"
      },
      "source": [
        "\"\"\"\n",
        "Load the tokenizer from large BERT vocabulary \n",
        "\"\"\"\n",
        "vocab_file = bert_layer.resolved_object.vocab_file.asset_path.numpy()\n",
        "do_lower_case = bert_layer.resolved_object.do_lower_case.numpy()\n",
        "tokenizer = tokenization.FullTokenizer(vocab_file, do_lower_case)"
      ],
      "execution_count": null,
      "outputs": []
    },
    {
      "cell_type": "code",
      "metadata": {
        "id": "CBgW5ygxiHVk"
      },
      "source": [
        "# Encode the text into tokens, masks, and segment flags\n",
        "train_input = bert_encode(train.Text.values, tokenizer, max_len=100)\n",
        "test_input = bert_encode(test.Text.values, tokenizer, max_len=100)\n",
        "train_labels = train.Label.values"
      ],
      "execution_count": null,
      "outputs": []
    },
    {
      "cell_type": "code",
      "metadata": {
        "id": "RXJ1N5fcjRLi"
      },
      "source": [
        "\"\"\"\n",
        "Model Training Hyper Parameters\n",
        "\"\"\"\n",
        "random_state_split = 2\n",
        "Dropout_num = 0.8\n",
        "learning_rate = 6e-6\n",
        "valid = 0.15\n",
        "epochs_num = 4\n",
        "batch_size_num = 4 # kept low to avoid resource exhaution \n",
        "target_corrected = False\n",
        "target_big_corrected = False"
      ],
      "execution_count": null,
      "outputs": []
    },
    {
      "cell_type": "code",
      "metadata": {
        "colab": {
          "base_uri": "https://localhost:8080/"
        },
        "id": "3UBftO47iNak",
        "outputId": "c17d7aab-fe20-4f6f-f60a-cfd0fb870de9"
      },
      "source": [
        "model_BERT = build_model(bert_layer, max_len=100)\n",
        "model_BERT.summary()"
      ],
      "execution_count": null,
      "outputs": [
        {
          "output_type": "stream",
          "text": [
            "Model: \"functional_11\"\n",
            "__________________________________________________________________________________________________\n",
            "Layer (type)                    Output Shape         Param #     Connected to                     \n",
            "==================================================================================================\n",
            "input_word_ids (InputLayer)     [(None, 100)]        0                                            \n",
            "__________________________________________________________________________________________________\n",
            "input_mask (InputLayer)         [(None, 100)]        0                                            \n",
            "__________________________________________________________________________________________________\n",
            "segment_ids (InputLayer)        [(None, 100)]        0                                            \n",
            "__________________________________________________________________________________________________\n",
            "keras_layer (KerasLayer)        [(None, 1024), (None 335141889   input_word_ids[0][0]             \n",
            "                                                                 input_mask[0][0]                 \n",
            "                                                                 segment_ids[0][0]                \n",
            "__________________________________________________________________________________________________\n",
            "tf_op_layer_strided_slice_5 (Te [(None, 1024)]       0           keras_layer[5][1]                \n",
            "__________________________________________________________________________________________________\n",
            "dropout_21 (Dropout)            (None, 1024)         0           tf_op_layer_strided_slice_5[0][0]\n",
            "__________________________________________________________________________________________________\n",
            "dense_37 (Dense)                (None, 1)            1025        dropout_21[0][0]                 \n",
            "==================================================================================================\n",
            "Total params: 335,142,914\n",
            "Trainable params: 335,142,913\n",
            "Non-trainable params: 1\n",
            "__________________________________________________________________________________________________\n"
          ],
          "name": "stdout"
        }
      ]
    },
    {
      "cell_type": "code",
      "metadata": {
        "colab": {
          "background_save": true,
          "base_uri": "https://localhost:8080/"
        },
        "id": "2UykfyqXKC-c",
        "outputId": "4aa65ec5-cf21-48be-d7bb-3a3da4037411"
      },
      "source": [
        "\"\"\"\" \n",
        "Train BERT model \n",
        "\"\"\"\n",
        "checkpoint = ModelCheckpoint('model_BERT.h5', monitor='val_loss', save_best_only=True)\n",
        "\n",
        "train_history = model_BERT.fit(\n",
        "    train_input, train_labels,\n",
        "    validation_split = valid,\n",
        "    epochs = epochs_num, # recomended 3-5 epochs\n",
        "    callbacks=[checkpoint],\n",
        "    batch_size = batch_size_num\n",
        ")"
      ],
      "execution_count": null,
      "outputs": [
        {
          "output_type": "stream",
          "text": [
            "Epoch 1/4\n",
            "1488/1488 [==============================] - 580s 390ms/step - loss: 0.0380 - accuracy: 0.9881 - val_loss: 0.3290 - val_accuracy: 0.9648\n",
            "Epoch 2/4\n",
            "1488/1488 [==============================] - 579s 389ms/step - loss: 0.0029 - accuracy: 0.9998 - val_loss: 0.2935 - val_accuracy: 0.9695\n",
            "Epoch 3/4\n",
            "1488/1488 [==============================] - 505s 339ms/step - loss: 0.0144 - accuracy: 0.9970 - val_loss: 0.3644 - val_accuracy: 0.9600\n",
            "Epoch 4/4\n",
            "1488/1488 [==============================] - 510s 342ms/step - loss: 0.0252 - accuracy: 0.9948 - val_loss: 0.4817 - val_accuracy: 0.9514\n"
          ],
          "name": "stdout"
        }
      ]
    },
    {
      "cell_type": "code",
      "metadata": {
        "colab": {
          "base_uri": "https://localhost:8080/",
          "height": 590
        },
        "id": "4jg1es6DKD7I",
        "outputId": "a65df7cb-7ab7-44bc-fff7-7998578c50a1"
      },
      "source": [
        "plot_curves(train_history)"
      ],
      "execution_count": null,
      "outputs": [
        {
          "output_type": "stream",
          "text": [
            "dict_keys(['loss', 'accuracy', 'val_loss', 'val_accuracy'])\n"
          ],
          "name": "stdout"
        },
        {
          "output_type": "display_data",
          "data": {
            "image/png": "[encoded data removed]",
            "text/plain": [
              "<Figure size 432x288 with 1 Axes>"
            ]
          },
          "metadata": {
            "tags": []
          }
        },
        {
          "output_type": "display_data",
          "data": {
            "image/png": "[encoded data removed]",
            "text/plain": [
              "<Figure size 432x288 with 1 Axes>"
            ]
          },
          "metadata": {
            "tags": []
          }
        }
      ]
    },
    {
      "cell_type": "code",
      "metadata": {
        "id": "-m-eFE3viVvM"
      },
      "source": [
        "# Prediction by BERT model with my tuning\n",
        "model_BERT.load_weights('model_BERT.h5')\n",
        "test_pred_BERT = model_BERT.predict(test_input)\n",
        "test_pred_BERT_int = test_pred_BERT.round().astype('int')"
      ],
      "execution_count": null,
      "outputs": []
    },
    {
      "cell_type": "code",
      "metadata": {
        "id": "Mw8pY6ddiYeP"
      },
      "source": [
        "# Prediction by BERT model with my tuning for the training data - for the Confusion Matrix\n",
        "train_pred_BERT = model_BERT.predict(train_input)\n",
        "train_pred_BERT_int = train_pred_BERT.round().astype('int')"
      ],
      "execution_count": null,
      "outputs": []
    },
    {
      "cell_type": "code",
      "metadata": {
        "colab": {
          "base_uri": "https://localhost:8080/"
        },
        "id": "8e3TjoybnlLn",
        "outputId": "03de5567-7e2e-4235-d6ea-5bef0ed1dae3"
      },
      "source": [
        "train_pred_BERT_int"
      ],
      "execution_count": null,
      "outputs": [
        {
          "output_type": "execute_result",
          "data": {
            "text/plain": [
              "array([[1],\n",
              "       [1],\n",
              "       [1],\n",
              "       ...,\n",
              "       [1],\n",
              "       [0],\n",
              "       [0]])"
            ]
          },
          "metadata": {
            "tags": []
          },
          "execution_count": 69
        }
      ]
    },
    {
      "cell_type": "markdown",
      "metadata": {
        "id": "Loxxelr4g17f"
      },
      "source": [
        "# BERT Models "
      ]
    },
    {
      "cell_type": "code",
      "metadata": {
        "colab": {
          "base_uri": "https://localhost:8080/"
        },
        "id": "LQ4rUvUwkmGu",
        "outputId": "0eb6c21b-0d97-433a-b41b-bf13dc231f1c"
      },
      "source": [
        "#@title Choose a BERT model to fine-tune\n",
        "\n",
        "bert_model_name = 'small_bert/bert_en_uncased_L-4_H-512_A-8'  #@param [\"bert_en_uncased_L-12_H-768_A-12\", \"bert_en_cased_L-12_H-768_A-12\", \"bert_multi_cased_L-12_H-768_A-12\", \"small_bert/bert_en_uncased_L-2_H-128_A-2\", \"small_bert/bert_en_uncased_L-2_H-256_A-4\", \"small_bert/bert_en_uncased_L-2_H-512_A-8\", \"small_bert/bert_en_uncased_L-2_H-768_A-12\", \"small_bert/bert_en_uncased_L-4_H-128_A-2\", \"small_bert/bert_en_uncased_L-4_H-256_A-4\", \"small_bert/bert_en_uncased_L-4_H-512_A-8\", \"small_bert/bert_en_uncased_L-4_H-768_A-12\", \"small_bert/bert_en_uncased_L-6_H-128_A-2\", \"small_bert/bert_en_uncased_L-6_H-256_A-4\", \"small_bert/bert_en_uncased_L-6_H-512_A-8\", \"small_bert/bert_en_uncased_L-6_H-768_A-12\", \"small_bert/bert_en_uncased_L-8_H-128_A-2\", \"small_bert/bert_en_uncased_L-8_H-256_A-4\", \"small_bert/bert_en_uncased_L-8_H-512_A-8\", \"small_bert/bert_en_uncased_L-8_H-768_A-12\", \"small_bert/bert_en_uncased_L-10_H-128_A-2\", \"small_bert/bert_en_uncased_L-10_H-256_A-4\", \"small_bert/bert_en_uncased_L-10_H-512_A-8\", \"small_bert/bert_en_uncased_L-10_H-768_A-12\", \"small_bert/bert_en_uncased_L-12_H-128_A-2\", \"small_bert/bert_en_uncased_L-12_H-256_A-4\", \"small_bert/bert_en_uncased_L-12_H-512_A-8\", \"small_bert/bert_en_uncased_L-12_H-768_A-12\", \"albert_en_base\", \"electra_small\", \"electra_base\", \"experts_pubmed\", \"experts_wiki_books\", \"talking-heads_base\"]\n",
        "\n",
        "map_name_to_handle = {\n",
        "    'bert_en_uncased_L-12_H-768_A-12':\n",
        "        'https://tfhub.dev/tensorflow/bert_en_uncased_L-12_H-768_A-12/3',\n",
        "    'bert_en_cased_L-12_H-768_A-12':\n",
        "        'https://tfhub.dev/tensorflow/bert_en_cased_L-12_H-768_A-12/3',\n",
        "    'bert_multi_cased_L-12_H-768_A-12':\n",
        "        'https://tfhub.dev/tensorflow/bert_multi_cased_L-12_H-768_A-12/3',\n",
        "    'small_bert/bert_en_uncased_L-2_H-128_A-2':\n",
        "        'https://tfhub.dev/tensorflow/small_bert/bert_en_uncased_L-2_H-128_A-2/1',\n",
        "    'small_bert/bert_en_uncased_L-2_H-256_A-4':\n",
        "        'https://tfhub.dev/tensorflow/small_bert/bert_en_uncased_L-2_H-256_A-4/1',\n",
        "    'small_bert/bert_en_uncased_L-2_H-512_A-8':\n",
        "        'https://tfhub.dev/tensorflow/small_bert/bert_en_uncased_L-2_H-512_A-8/1',\n",
        "    'small_bert/bert_en_uncased_L-2_H-768_A-12':\n",
        "        'https://tfhub.dev/tensorflow/small_bert/bert_en_uncased_L-2_H-768_A-12/1',\n",
        "    'small_bert/bert_en_uncased_L-4_H-128_A-2':\n",
        "        'https://tfhub.dev/tensorflow/small_bert/bert_en_uncased_L-4_H-128_A-2/1',\n",
        "    'small_bert/bert_en_uncased_L-4_H-256_A-4':\n",
        "        'https://tfhub.dev/tensorflow/small_bert/bert_en_uncased_L-4_H-256_A-4/1',\n",
        "    'small_bert/bert_en_uncased_L-4_H-512_A-8':\n",
        "        'https://tfhub.dev/tensorflow/small_bert/bert_en_uncased_L-4_H-512_A-8/1',\n",
        "    'small_bert/bert_en_uncased_L-4_H-768_A-12':\n",
        "        'https://tfhub.dev/tensorflow/small_bert/bert_en_uncased_L-4_H-768_A-12/1',\n",
        "    'small_bert/bert_en_uncased_L-6_H-128_A-2':\n",
        "        'https://tfhub.dev/tensorflow/small_bert/bert_en_uncased_L-6_H-128_A-2/1',\n",
        "    'small_bert/bert_en_uncased_L-6_H-256_A-4':\n",
        "        'https://tfhub.dev/tensorflow/small_bert/bert_en_uncased_L-6_H-256_A-4/1',\n",
        "    'small_bert/bert_en_uncased_L-6_H-512_A-8':\n",
        "        'https://tfhub.dev/tensorflow/small_bert/bert_en_uncased_L-6_H-512_A-8/1',\n",
        "    'small_bert/bert_en_uncased_L-6_H-768_A-12':\n",
        "        'https://tfhub.dev/tensorflow/small_bert/bert_en_uncased_L-6_H-768_A-12/1',\n",
        "    'small_bert/bert_en_uncased_L-8_H-128_A-2':\n",
        "        'https://tfhub.dev/tensorflow/small_bert/bert_en_uncased_L-8_H-128_A-2/1',\n",
        "    'small_bert/bert_en_uncased_L-8_H-256_A-4':\n",
        "        'https://tfhub.dev/tensorflow/small_bert/bert_en_uncased_L-8_H-256_A-4/1',\n",
        "    'small_bert/bert_en_uncased_L-8_H-512_A-8':\n",
        "        'https://tfhub.dev/tensorflow/small_bert/bert_en_uncased_L-8_H-512_A-8/1',\n",
        "    'small_bert/bert_en_uncased_L-8_H-768_A-12':\n",
        "        'https://tfhub.dev/tensorflow/small_bert/bert_en_uncased_L-8_H-768_A-12/1',\n",
        "    'small_bert/bert_en_uncased_L-10_H-128_A-2':\n",
        "        'https://tfhub.dev/tensorflow/small_bert/bert_en_uncased_L-10_H-128_A-2/1',\n",
        "    'small_bert/bert_en_uncased_L-10_H-256_A-4':\n",
        "        'https://tfhub.dev/tensorflow/small_bert/bert_en_uncased_L-10_H-256_A-4/1',\n",
        "    'small_bert/bert_en_uncased_L-10_H-512_A-8':\n",
        "        'https://tfhub.dev/tensorflow/small_bert/bert_en_uncased_L-10_H-512_A-8/1',\n",
        "    'small_bert/bert_en_uncased_L-10_H-768_A-12':\n",
        "        'https://tfhub.dev/tensorflow/small_bert/bert_en_uncased_L-10_H-768_A-12/1',\n",
        "    'small_bert/bert_en_uncased_L-12_H-128_A-2':\n",
        "        'https://tfhub.dev/tensorflow/small_bert/bert_en_uncased_L-12_H-128_A-2/1',\n",
        "    'small_bert/bert_en_uncased_L-12_H-256_A-4':\n",
        "        'https://tfhub.dev/tensorflow/small_bert/bert_en_uncased_L-12_H-256_A-4/1',\n",
        "    'small_bert/bert_en_uncased_L-12_H-512_A-8':\n",
        "        'https://tfhub.dev/tensorflow/small_bert/bert_en_uncased_L-12_H-512_A-8/1',\n",
        "    'small_bert/bert_en_uncased_L-12_H-768_A-12':\n",
        "        'https://tfhub.dev/tensorflow/small_bert/bert_en_uncased_L-12_H-768_A-12/1',\n",
        "    'albert_en_base':\n",
        "        'https://tfhub.dev/tensorflow/albert_en_base/2',\n",
        "    'electra_small':\n",
        "        'https://tfhub.dev/google/electra_small/2',\n",
        "    'electra_base':\n",
        "        'https://tfhub.dev/google/electra_base/2',\n",
        "    'experts_pubmed':\n",
        "        'https://tfhub.dev/google/experts/bert/pubmed/2',\n",
        "    'experts_wiki_books':\n",
        "        'https://tfhub.dev/google/experts/bert/wiki_books/2',\n",
        "    'talking-heads_base':\n",
        "        'https://tfhub.dev/tensorflow/talkheads_ggelu_bert_en_base/1',\n",
        "}\n",
        "\n",
        "map_model_to_preprocess = {\n",
        "    'bert_en_uncased_L-12_H-768_A-12':\n",
        "        'https://tfhub.dev/tensorflow/bert_en_uncased_preprocess/1',\n",
        "    'bert_en_cased_L-12_H-768_A-12':\n",
        "        'https://tfhub.dev/tensorflow/bert_en_cased_preprocess/1',\n",
        "    'small_bert/bert_en_uncased_L-2_H-128_A-2':\n",
        "        'https://tfhub.dev/tensorflow/bert_en_uncased_preprocess/1',\n",
        "    'small_bert/bert_en_uncased_L-2_H-256_A-4':\n",
        "        'https://tfhub.dev/tensorflow/bert_en_uncased_preprocess/1',\n",
        "    'small_bert/bert_en_uncased_L-2_H-512_A-8':\n",
        "        'https://tfhub.dev/tensorflow/bert_en_uncased_preprocess/1',\n",
        "    'small_bert/bert_en_uncased_L-2_H-768_A-12':\n",
        "        'https://tfhub.dev/tensorflow/bert_en_uncased_preprocess/1',\n",
        "    'small_bert/bert_en_uncased_L-4_H-128_A-2':\n",
        "        'https://tfhub.dev/tensorflow/bert_en_uncased_preprocess/1',\n",
        "    'small_bert/bert_en_uncased_L-4_H-256_A-4':\n",
        "        'https://tfhub.dev/tensorflow/bert_en_uncased_preprocess/1',\n",
        "    'small_bert/bert_en_uncased_L-4_H-512_A-8':\n",
        "        'https://tfhub.dev/tensorflow/bert_en_uncased_preprocess/1',\n",
        "    'small_bert/bert_en_uncased_L-4_H-768_A-12':\n",
        "        'https://tfhub.dev/tensorflow/bert_en_uncased_preprocess/1',\n",
        "    'small_bert/bert_en_uncased_L-6_H-128_A-2':\n",
        "        'https://tfhub.dev/tensorflow/bert_en_uncased_preprocess/1',\n",
        "    'small_bert/bert_en_uncased_L-6_H-256_A-4':\n",
        "        'https://tfhub.dev/tensorflow/bert_en_uncased_preprocess/1',\n",
        "    'small_bert/bert_en_uncased_L-6_H-512_A-8':\n",
        "        'https://tfhub.dev/tensorflow/bert_en_uncased_preprocess/1',\n",
        "    'small_bert/bert_en_uncased_L-6_H-768_A-12':\n",
        "        'https://tfhub.dev/tensorflow/bert_en_uncased_preprocess/1',\n",
        "    'small_bert/bert_en_uncased_L-8_H-128_A-2':\n",
        "        'https://tfhub.dev/tensorflow/bert_en_uncased_preprocess/1',\n",
        "    'small_bert/bert_en_uncased_L-8_H-256_A-4':\n",
        "        'https://tfhub.dev/tensorflow/bert_en_uncased_preprocess/1',\n",
        "    'small_bert/bert_en_uncased_L-8_H-512_A-8':\n",
        "        'https://tfhub.dev/tensorflow/bert_en_uncased_preprocess/1',\n",
        "    'small_bert/bert_en_uncased_L-8_H-768_A-12':\n",
        "        'https://tfhub.dev/tensorflow/bert_en_uncased_preprocess/1',\n",
        "    'small_bert/bert_en_uncased_L-10_H-128_A-2':\n",
        "        'https://tfhub.dev/tensorflow/bert_en_uncased_preprocess/1',\n",
        "    'small_bert/bert_en_uncased_L-10_H-256_A-4':\n",
        "        'https://tfhub.dev/tensorflow/bert_en_uncased_preprocess/1',\n",
        "    'small_bert/bert_en_uncased_L-10_H-512_A-8':\n",
        "        'https://tfhub.dev/tensorflow/bert_en_uncased_preprocess/1',\n",
        "    'small_bert/bert_en_uncased_L-10_H-768_A-12':\n",
        "        'https://tfhub.dev/tensorflow/bert_en_uncased_preprocess/1',\n",
        "    'small_bert/bert_en_uncased_L-12_H-128_A-2':\n",
        "        'https://tfhub.dev/tensorflow/bert_en_uncased_preprocess/1',\n",
        "    'small_bert/bert_en_uncased_L-12_H-256_A-4':\n",
        "        'https://tfhub.dev/tensorflow/bert_en_uncased_preprocess/1',\n",
        "    'small_bert/bert_en_uncased_L-12_H-512_A-8':\n",
        "        'https://tfhub.dev/tensorflow/bert_en_uncased_preprocess/1',\n",
        "    'small_bert/bert_en_uncased_L-12_H-768_A-12':\n",
        "        'https://tfhub.dev/tensorflow/bert_en_uncased_preprocess/1',\n",
        "    'bert_multi_cased_L-12_H-768_A-12':\n",
        "        'https://tfhub.dev/tensorflow/bert_multi_cased_preprocess/1',\n",
        "    'albert_en_base':\n",
        "        'https://tfhub.dev/tensorflow/albert_en_preprocess/1',\n",
        "    'electra_small':\n",
        "        'https://tfhub.dev/tensorflow/bert_en_uncased_preprocess/1',\n",
        "    'electra_base':\n",
        "        'https://tfhub.dev/tensorflow/bert_en_uncased_preprocess/1',\n",
        "    'experts_pubmed':\n",
        "        'https://tfhub.dev/tensorflow/bert_en_uncased_preprocess/1',\n",
        "    'experts_wiki_books':\n",
        "        'https://tfhub.dev/tensorflow/bert_en_uncased_preprocess/1',\n",
        "    'talking-heads_base':\n",
        "        'https://tfhub.dev/tensorflow/bert_en_uncased_preprocess/1',\n",
        "}\n",
        "\n",
        "tfhub_handle_encoder = map_name_to_handle[bert_model_name]\n",
        "tfhub_handle_preprocess = map_model_to_preprocess[bert_model_name]\n",
        "\n",
        "print(f'BERT model selected           : {tfhub_handle_encoder}')\n",
        "print(f'Preprocess model auto-selected: {tfhub_handle_preprocess}')"
      ],
      "execution_count": null,
      "outputs": [
        {
          "output_type": "stream",
          "text": [
            "BERT model selected           : https://tfhub.dev/tensorflow/small_bert/bert_en_uncased_L-4_H-512_A-8/1\n",
            "Preprocess model auto-selected: https://tfhub.dev/tensorflow/bert_en_uncased_preprocess/1\n"
          ],
          "name": "stdout"
        }
      ]
    }
  ]
}